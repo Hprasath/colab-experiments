{
  "nbformat": 4,
  "nbformat_minor": 0,
  "metadata": {
    "colab": {
      "name": "MP_NeuronAndPerceptron.ipynb",
      "provenance": [],
      "collapsed_sections": [],
      "include_colab_link": true
    },
    "kernelspec": {
      "name": "python3",
      "display_name": "Python 3"
    }
  },
  "cells": [
    {
      "cell_type": "markdown",
      "metadata": {
        "id": "view-in-github",
        "colab_type": "text"
      },
      "source": [
        "<a href=\"https://colab.research.google.com/github/Hprasath/colab-experiments/blob/master/MP_NeuronAndPerceptron.ipynb\" target=\"_parent\"><img src=\"https://colab.research.google.com/assets/colab-badge.svg\" alt=\"Open In Colab\"/></a>"
      ]
    },
    {
      "cell_type": "markdown",
      "metadata": {
        "id": "VBPUbwNCs-yp",
        "colab_type": "text"
      },
      "source": [
        "## Loading Dataset"
      ]
    },
    {
      "cell_type": "code",
      "metadata": {
        "id": "ZqC6WC9xoekE",
        "colab_type": "code",
        "colab": {}
      },
      "source": [
        "import sklearn.datasets\n",
        "import numpy as np"
      ],
      "execution_count": 0,
      "outputs": []
    },
    {
      "cell_type": "code",
      "metadata": {
        "id": "5AMCCgD_oovi",
        "colab_type": "code",
        "colab": {}
      },
      "source": [
        "breast_cancer = sklearn.datasets.load_breast_cancer()"
      ],
      "execution_count": 0,
      "outputs": []
    },
    {
      "cell_type": "code",
      "metadata": {
        "id": "EMU3rihEoyIN",
        "colab_type": "code",
        "colab": {}
      },
      "source": [
        "X = breast_cancer.data\n",
        "Y = breast_cancer.target"
      ],
      "execution_count": 0,
      "outputs": []
    },
    {
      "cell_type": "code",
      "metadata": {
        "id": "KTsNMfL4pIEI",
        "colab_type": "code",
        "outputId": "016634f3-cd76-4bf9-c2b8-8d4865cb2c87",
        "colab": {
          "base_uri": "https://localhost:8080/",
          "height": 466
        }
      },
      "source": [
        "Y"
      ],
      "execution_count": 0,
      "outputs": [
        {
          "output_type": "execute_result",
          "data": {
            "text/plain": [
              "array([0, 0, 0, 0, 0, 0, 0, 0, 0, 0, 0, 0, 0, 0, 0, 0, 0, 0, 0, 1, 1, 1,\n",
              "       0, 0, 0, 0, 0, 0, 0, 0, 0, 0, 0, 0, 0, 0, 0, 1, 0, 0, 0, 0, 0, 0,\n",
              "       0, 0, 1, 0, 1, 1, 1, 1, 1, 0, 0, 1, 0, 0, 1, 1, 1, 1, 0, 1, 0, 0,\n",
              "       1, 1, 1, 1, 0, 1, 0, 0, 1, 0, 1, 0, 0, 1, 1, 1, 0, 0, 1, 0, 0, 0,\n",
              "       1, 1, 1, 0, 1, 1, 0, 0, 1, 1, 1, 0, 0, 1, 1, 1, 1, 0, 1, 1, 0, 1,\n",
              "       1, 1, 1, 1, 1, 1, 1, 0, 0, 0, 1, 0, 0, 1, 1, 1, 0, 0, 1, 0, 1, 0,\n",
              "       0, 1, 0, 0, 1, 1, 0, 1, 1, 0, 1, 1, 1, 1, 0, 1, 1, 1, 1, 1, 1, 1,\n",
              "       1, 1, 0, 1, 1, 1, 1, 0, 0, 1, 0, 1, 1, 0, 0, 1, 1, 0, 0, 1, 1, 1,\n",
              "       1, 0, 1, 1, 0, 0, 0, 1, 0, 1, 0, 1, 1, 1, 0, 1, 1, 0, 0, 1, 0, 0,\n",
              "       0, 0, 1, 0, 0, 0, 1, 0, 1, 0, 1, 1, 0, 1, 0, 0, 0, 0, 1, 1, 0, 0,\n",
              "       1, 1, 1, 0, 1, 1, 1, 1, 1, 0, 0, 1, 1, 0, 1, 1, 0, 0, 1, 0, 1, 1,\n",
              "       1, 1, 0, 1, 1, 1, 1, 1, 0, 1, 0, 0, 0, 0, 0, 0, 0, 0, 0, 0, 0, 0,\n",
              "       0, 0, 1, 1, 1, 1, 1, 1, 0, 1, 0, 1, 1, 0, 1, 1, 0, 1, 0, 0, 1, 1,\n",
              "       1, 1, 1, 1, 1, 1, 1, 1, 1, 1, 1, 0, 1, 1, 0, 1, 0, 1, 1, 1, 1, 1,\n",
              "       1, 1, 1, 1, 1, 1, 1, 1, 1, 0, 1, 1, 1, 0, 1, 0, 1, 1, 1, 1, 0, 0,\n",
              "       0, 1, 1, 1, 1, 0, 1, 0, 1, 0, 1, 1, 1, 0, 1, 1, 1, 1, 1, 1, 1, 0,\n",
              "       0, 0, 1, 1, 1, 1, 1, 1, 1, 1, 1, 1, 1, 0, 0, 1, 0, 0, 0, 1, 0, 0,\n",
              "       1, 1, 1, 1, 1, 0, 1, 1, 1, 1, 1, 0, 1, 1, 1, 0, 1, 1, 0, 0, 1, 1,\n",
              "       1, 1, 1, 1, 0, 1, 1, 1, 1, 1, 1, 1, 0, 1, 1, 1, 1, 1, 0, 1, 1, 0,\n",
              "       1, 1, 1, 1, 1, 1, 1, 1, 1, 1, 1, 1, 0, 1, 0, 0, 1, 0, 1, 1, 1, 1,\n",
              "       1, 0, 1, 1, 0, 1, 0, 1, 1, 0, 1, 0, 1, 1, 1, 1, 1, 1, 1, 1, 0, 0,\n",
              "       1, 1, 1, 1, 1, 1, 0, 1, 1, 1, 1, 1, 1, 1, 1, 1, 1, 0, 1, 1, 1, 1,\n",
              "       1, 1, 1, 0, 1, 0, 1, 1, 0, 1, 1, 1, 1, 1, 0, 0, 1, 0, 1, 0, 1, 1,\n",
              "       1, 1, 1, 0, 1, 1, 0, 1, 0, 1, 0, 0, 1, 1, 1, 0, 1, 1, 1, 1, 1, 1,\n",
              "       1, 1, 1, 1, 1, 0, 1, 0, 0, 1, 1, 1, 1, 1, 1, 1, 1, 1, 1, 1, 1, 1,\n",
              "       1, 1, 1, 1, 1, 1, 1, 1, 1, 1, 1, 1, 0, 0, 0, 0, 0, 0, 1])"
            ]
          },
          "metadata": {
            "tags": []
          },
          "execution_count": 51
        }
      ]
    },
    {
      "cell_type": "code",
      "metadata": {
        "id": "SI65B_C6pIcb",
        "colab_type": "code",
        "outputId": "43f20382-09f6-4be4-d066-12a98c5d3b77",
        "colab": {
          "base_uri": "https://localhost:8080/",
          "height": 35
        }
      },
      "source": [
        "X.shape"
      ],
      "execution_count": 0,
      "outputs": [
        {
          "output_type": "execute_result",
          "data": {
            "text/plain": [
              "(569, 30)"
            ]
          },
          "metadata": {
            "tags": []
          },
          "execution_count": 52
        }
      ]
    },
    {
      "cell_type": "code",
      "metadata": {
        "id": "a-G9LTBCpMof",
        "colab_type": "code",
        "outputId": "a1128cbe-726d-40cd-fcd0-18e9ae5e9d31",
        "colab": {
          "base_uri": "https://localhost:8080/",
          "height": 35
        }
      },
      "source": [
        "Y.shape"
      ],
      "execution_count": 0,
      "outputs": [
        {
          "output_type": "execute_result",
          "data": {
            "text/plain": [
              "(569,)"
            ]
          },
          "metadata": {
            "tags": []
          },
          "execution_count": 53
        }
      ]
    },
    {
      "cell_type": "code",
      "metadata": {
        "id": "6hqvWKKEpN08",
        "colab_type": "code",
        "colab": {}
      },
      "source": [
        "import pandas as pd"
      ],
      "execution_count": 0,
      "outputs": []
    },
    {
      "cell_type": "code",
      "metadata": {
        "id": "BxedrxzDpbYY",
        "colab_type": "code",
        "colab": {}
      },
      "source": [
        "data = pd.DataFrame(X, columns = breast_cancer.feature_names)"
      ],
      "execution_count": 0,
      "outputs": []
    },
    {
      "cell_type": "code",
      "metadata": {
        "id": "B3PSg28Vpn7X",
        "colab_type": "code",
        "outputId": "c454659e-dd80-461f-a336-3d9c2a5bb34b",
        "colab": {
          "base_uri": "https://localhost:8080/",
          "height": 253
        }
      },
      "source": [
        "data.head()"
      ],
      "execution_count": 0,
      "outputs": [
        {
          "output_type": "execute_result",
          "data": {
            "text/html": [
              "<div>\n",
              "<style scoped>\n",
              "    .dataframe tbody tr th:only-of-type {\n",
              "        vertical-align: middle;\n",
              "    }\n",
              "\n",
              "    .dataframe tbody tr th {\n",
              "        vertical-align: top;\n",
              "    }\n",
              "\n",
              "    .dataframe thead th {\n",
              "        text-align: right;\n",
              "    }\n",
              "</style>\n",
              "<table border=\"1\" class=\"dataframe\">\n",
              "  <thead>\n",
              "    <tr style=\"text-align: right;\">\n",
              "      <th></th>\n",
              "      <th>mean radius</th>\n",
              "      <th>mean texture</th>\n",
              "      <th>mean perimeter</th>\n",
              "      <th>mean area</th>\n",
              "      <th>mean smoothness</th>\n",
              "      <th>mean compactness</th>\n",
              "      <th>mean concavity</th>\n",
              "      <th>mean concave points</th>\n",
              "      <th>mean symmetry</th>\n",
              "      <th>mean fractal dimension</th>\n",
              "      <th>radius error</th>\n",
              "      <th>texture error</th>\n",
              "      <th>perimeter error</th>\n",
              "      <th>area error</th>\n",
              "      <th>smoothness error</th>\n",
              "      <th>compactness error</th>\n",
              "      <th>concavity error</th>\n",
              "      <th>concave points error</th>\n",
              "      <th>symmetry error</th>\n",
              "      <th>fractal dimension error</th>\n",
              "      <th>worst radius</th>\n",
              "      <th>worst texture</th>\n",
              "      <th>worst perimeter</th>\n",
              "      <th>worst area</th>\n",
              "      <th>worst smoothness</th>\n",
              "      <th>worst compactness</th>\n",
              "      <th>worst concavity</th>\n",
              "      <th>worst concave points</th>\n",
              "      <th>worst symmetry</th>\n",
              "      <th>worst fractal dimension</th>\n",
              "    </tr>\n",
              "  </thead>\n",
              "  <tbody>\n",
              "    <tr>\n",
              "      <th>0</th>\n",
              "      <td>17.99</td>\n",
              "      <td>10.38</td>\n",
              "      <td>122.80</td>\n",
              "      <td>1001.0</td>\n",
              "      <td>0.11840</td>\n",
              "      <td>0.27760</td>\n",
              "      <td>0.3001</td>\n",
              "      <td>0.14710</td>\n",
              "      <td>0.2419</td>\n",
              "      <td>0.07871</td>\n",
              "      <td>1.0950</td>\n",
              "      <td>0.9053</td>\n",
              "      <td>8.589</td>\n",
              "      <td>153.40</td>\n",
              "      <td>0.006399</td>\n",
              "      <td>0.04904</td>\n",
              "      <td>0.05373</td>\n",
              "      <td>0.01587</td>\n",
              "      <td>0.03003</td>\n",
              "      <td>0.006193</td>\n",
              "      <td>25.38</td>\n",
              "      <td>17.33</td>\n",
              "      <td>184.60</td>\n",
              "      <td>2019.0</td>\n",
              "      <td>0.1622</td>\n",
              "      <td>0.6656</td>\n",
              "      <td>0.7119</td>\n",
              "      <td>0.2654</td>\n",
              "      <td>0.4601</td>\n",
              "      <td>0.11890</td>\n",
              "    </tr>\n",
              "    <tr>\n",
              "      <th>1</th>\n",
              "      <td>20.57</td>\n",
              "      <td>17.77</td>\n",
              "      <td>132.90</td>\n",
              "      <td>1326.0</td>\n",
              "      <td>0.08474</td>\n",
              "      <td>0.07864</td>\n",
              "      <td>0.0869</td>\n",
              "      <td>0.07017</td>\n",
              "      <td>0.1812</td>\n",
              "      <td>0.05667</td>\n",
              "      <td>0.5435</td>\n",
              "      <td>0.7339</td>\n",
              "      <td>3.398</td>\n",
              "      <td>74.08</td>\n",
              "      <td>0.005225</td>\n",
              "      <td>0.01308</td>\n",
              "      <td>0.01860</td>\n",
              "      <td>0.01340</td>\n",
              "      <td>0.01389</td>\n",
              "      <td>0.003532</td>\n",
              "      <td>24.99</td>\n",
              "      <td>23.41</td>\n",
              "      <td>158.80</td>\n",
              "      <td>1956.0</td>\n",
              "      <td>0.1238</td>\n",
              "      <td>0.1866</td>\n",
              "      <td>0.2416</td>\n",
              "      <td>0.1860</td>\n",
              "      <td>0.2750</td>\n",
              "      <td>0.08902</td>\n",
              "    </tr>\n",
              "    <tr>\n",
              "      <th>2</th>\n",
              "      <td>19.69</td>\n",
              "      <td>21.25</td>\n",
              "      <td>130.00</td>\n",
              "      <td>1203.0</td>\n",
              "      <td>0.10960</td>\n",
              "      <td>0.15990</td>\n",
              "      <td>0.1974</td>\n",
              "      <td>0.12790</td>\n",
              "      <td>0.2069</td>\n",
              "      <td>0.05999</td>\n",
              "      <td>0.7456</td>\n",
              "      <td>0.7869</td>\n",
              "      <td>4.585</td>\n",
              "      <td>94.03</td>\n",
              "      <td>0.006150</td>\n",
              "      <td>0.04006</td>\n",
              "      <td>0.03832</td>\n",
              "      <td>0.02058</td>\n",
              "      <td>0.02250</td>\n",
              "      <td>0.004571</td>\n",
              "      <td>23.57</td>\n",
              "      <td>25.53</td>\n",
              "      <td>152.50</td>\n",
              "      <td>1709.0</td>\n",
              "      <td>0.1444</td>\n",
              "      <td>0.4245</td>\n",
              "      <td>0.4504</td>\n",
              "      <td>0.2430</td>\n",
              "      <td>0.3613</td>\n",
              "      <td>0.08758</td>\n",
              "    </tr>\n",
              "    <tr>\n",
              "      <th>3</th>\n",
              "      <td>11.42</td>\n",
              "      <td>20.38</td>\n",
              "      <td>77.58</td>\n",
              "      <td>386.1</td>\n",
              "      <td>0.14250</td>\n",
              "      <td>0.28390</td>\n",
              "      <td>0.2414</td>\n",
              "      <td>0.10520</td>\n",
              "      <td>0.2597</td>\n",
              "      <td>0.09744</td>\n",
              "      <td>0.4956</td>\n",
              "      <td>1.1560</td>\n",
              "      <td>3.445</td>\n",
              "      <td>27.23</td>\n",
              "      <td>0.009110</td>\n",
              "      <td>0.07458</td>\n",
              "      <td>0.05661</td>\n",
              "      <td>0.01867</td>\n",
              "      <td>0.05963</td>\n",
              "      <td>0.009208</td>\n",
              "      <td>14.91</td>\n",
              "      <td>26.50</td>\n",
              "      <td>98.87</td>\n",
              "      <td>567.7</td>\n",
              "      <td>0.2098</td>\n",
              "      <td>0.8663</td>\n",
              "      <td>0.6869</td>\n",
              "      <td>0.2575</td>\n",
              "      <td>0.6638</td>\n",
              "      <td>0.17300</td>\n",
              "    </tr>\n",
              "    <tr>\n",
              "      <th>4</th>\n",
              "      <td>20.29</td>\n",
              "      <td>14.34</td>\n",
              "      <td>135.10</td>\n",
              "      <td>1297.0</td>\n",
              "      <td>0.10030</td>\n",
              "      <td>0.13280</td>\n",
              "      <td>0.1980</td>\n",
              "      <td>0.10430</td>\n",
              "      <td>0.1809</td>\n",
              "      <td>0.05883</td>\n",
              "      <td>0.7572</td>\n",
              "      <td>0.7813</td>\n",
              "      <td>5.438</td>\n",
              "      <td>94.44</td>\n",
              "      <td>0.011490</td>\n",
              "      <td>0.02461</td>\n",
              "      <td>0.05688</td>\n",
              "      <td>0.01885</td>\n",
              "      <td>0.01756</td>\n",
              "      <td>0.005115</td>\n",
              "      <td>22.54</td>\n",
              "      <td>16.67</td>\n",
              "      <td>152.20</td>\n",
              "      <td>1575.0</td>\n",
              "      <td>0.1374</td>\n",
              "      <td>0.2050</td>\n",
              "      <td>0.4000</td>\n",
              "      <td>0.1625</td>\n",
              "      <td>0.2364</td>\n",
              "      <td>0.07678</td>\n",
              "    </tr>\n",
              "  </tbody>\n",
              "</table>\n",
              "</div>"
            ],
            "text/plain": [
              "   mean radius  mean texture  ...  worst symmetry  worst fractal dimension\n",
              "0        17.99         10.38  ...          0.4601                  0.11890\n",
              "1        20.57         17.77  ...          0.2750                  0.08902\n",
              "2        19.69         21.25  ...          0.3613                  0.08758\n",
              "3        11.42         20.38  ...          0.6638                  0.17300\n",
              "4        20.29         14.34  ...          0.2364                  0.07678\n",
              "\n",
              "[5 rows x 30 columns]"
            ]
          },
          "metadata": {
            "tags": []
          },
          "execution_count": 56
        }
      ]
    },
    {
      "cell_type": "code",
      "metadata": {
        "id": "YBpS4AVkpvST",
        "colab_type": "code",
        "colab": {}
      },
      "source": [
        "data['class'] = Y"
      ],
      "execution_count": 0,
      "outputs": []
    },
    {
      "cell_type": "code",
      "metadata": {
        "id": "C2Gh45n-p05D",
        "colab_type": "code",
        "outputId": "ebfcbc20-b598-449b-d5a8-597a492d792f",
        "colab": {
          "base_uri": "https://localhost:8080/",
          "height": 253
        }
      },
      "source": [
        "data.head()"
      ],
      "execution_count": 0,
      "outputs": [
        {
          "output_type": "execute_result",
          "data": {
            "text/html": [
              "<div>\n",
              "<style scoped>\n",
              "    .dataframe tbody tr th:only-of-type {\n",
              "        vertical-align: middle;\n",
              "    }\n",
              "\n",
              "    .dataframe tbody tr th {\n",
              "        vertical-align: top;\n",
              "    }\n",
              "\n",
              "    .dataframe thead th {\n",
              "        text-align: right;\n",
              "    }\n",
              "</style>\n",
              "<table border=\"1\" class=\"dataframe\">\n",
              "  <thead>\n",
              "    <tr style=\"text-align: right;\">\n",
              "      <th></th>\n",
              "      <th>mean radius</th>\n",
              "      <th>mean texture</th>\n",
              "      <th>mean perimeter</th>\n",
              "      <th>mean area</th>\n",
              "      <th>mean smoothness</th>\n",
              "      <th>mean compactness</th>\n",
              "      <th>mean concavity</th>\n",
              "      <th>mean concave points</th>\n",
              "      <th>mean symmetry</th>\n",
              "      <th>mean fractal dimension</th>\n",
              "      <th>radius error</th>\n",
              "      <th>texture error</th>\n",
              "      <th>perimeter error</th>\n",
              "      <th>area error</th>\n",
              "      <th>smoothness error</th>\n",
              "      <th>compactness error</th>\n",
              "      <th>concavity error</th>\n",
              "      <th>concave points error</th>\n",
              "      <th>symmetry error</th>\n",
              "      <th>fractal dimension error</th>\n",
              "      <th>worst radius</th>\n",
              "      <th>worst texture</th>\n",
              "      <th>worst perimeter</th>\n",
              "      <th>worst area</th>\n",
              "      <th>worst smoothness</th>\n",
              "      <th>worst compactness</th>\n",
              "      <th>worst concavity</th>\n",
              "      <th>worst concave points</th>\n",
              "      <th>worst symmetry</th>\n",
              "      <th>worst fractal dimension</th>\n",
              "      <th>class</th>\n",
              "    </tr>\n",
              "  </thead>\n",
              "  <tbody>\n",
              "    <tr>\n",
              "      <th>0</th>\n",
              "      <td>17.99</td>\n",
              "      <td>10.38</td>\n",
              "      <td>122.80</td>\n",
              "      <td>1001.0</td>\n",
              "      <td>0.11840</td>\n",
              "      <td>0.27760</td>\n",
              "      <td>0.3001</td>\n",
              "      <td>0.14710</td>\n",
              "      <td>0.2419</td>\n",
              "      <td>0.07871</td>\n",
              "      <td>1.0950</td>\n",
              "      <td>0.9053</td>\n",
              "      <td>8.589</td>\n",
              "      <td>153.40</td>\n",
              "      <td>0.006399</td>\n",
              "      <td>0.04904</td>\n",
              "      <td>0.05373</td>\n",
              "      <td>0.01587</td>\n",
              "      <td>0.03003</td>\n",
              "      <td>0.006193</td>\n",
              "      <td>25.38</td>\n",
              "      <td>17.33</td>\n",
              "      <td>184.60</td>\n",
              "      <td>2019.0</td>\n",
              "      <td>0.1622</td>\n",
              "      <td>0.6656</td>\n",
              "      <td>0.7119</td>\n",
              "      <td>0.2654</td>\n",
              "      <td>0.4601</td>\n",
              "      <td>0.11890</td>\n",
              "      <td>0</td>\n",
              "    </tr>\n",
              "    <tr>\n",
              "      <th>1</th>\n",
              "      <td>20.57</td>\n",
              "      <td>17.77</td>\n",
              "      <td>132.90</td>\n",
              "      <td>1326.0</td>\n",
              "      <td>0.08474</td>\n",
              "      <td>0.07864</td>\n",
              "      <td>0.0869</td>\n",
              "      <td>0.07017</td>\n",
              "      <td>0.1812</td>\n",
              "      <td>0.05667</td>\n",
              "      <td>0.5435</td>\n",
              "      <td>0.7339</td>\n",
              "      <td>3.398</td>\n",
              "      <td>74.08</td>\n",
              "      <td>0.005225</td>\n",
              "      <td>0.01308</td>\n",
              "      <td>0.01860</td>\n",
              "      <td>0.01340</td>\n",
              "      <td>0.01389</td>\n",
              "      <td>0.003532</td>\n",
              "      <td>24.99</td>\n",
              "      <td>23.41</td>\n",
              "      <td>158.80</td>\n",
              "      <td>1956.0</td>\n",
              "      <td>0.1238</td>\n",
              "      <td>0.1866</td>\n",
              "      <td>0.2416</td>\n",
              "      <td>0.1860</td>\n",
              "      <td>0.2750</td>\n",
              "      <td>0.08902</td>\n",
              "      <td>0</td>\n",
              "    </tr>\n",
              "    <tr>\n",
              "      <th>2</th>\n",
              "      <td>19.69</td>\n",
              "      <td>21.25</td>\n",
              "      <td>130.00</td>\n",
              "      <td>1203.0</td>\n",
              "      <td>0.10960</td>\n",
              "      <td>0.15990</td>\n",
              "      <td>0.1974</td>\n",
              "      <td>0.12790</td>\n",
              "      <td>0.2069</td>\n",
              "      <td>0.05999</td>\n",
              "      <td>0.7456</td>\n",
              "      <td>0.7869</td>\n",
              "      <td>4.585</td>\n",
              "      <td>94.03</td>\n",
              "      <td>0.006150</td>\n",
              "      <td>0.04006</td>\n",
              "      <td>0.03832</td>\n",
              "      <td>0.02058</td>\n",
              "      <td>0.02250</td>\n",
              "      <td>0.004571</td>\n",
              "      <td>23.57</td>\n",
              "      <td>25.53</td>\n",
              "      <td>152.50</td>\n",
              "      <td>1709.0</td>\n",
              "      <td>0.1444</td>\n",
              "      <td>0.4245</td>\n",
              "      <td>0.4504</td>\n",
              "      <td>0.2430</td>\n",
              "      <td>0.3613</td>\n",
              "      <td>0.08758</td>\n",
              "      <td>0</td>\n",
              "    </tr>\n",
              "    <tr>\n",
              "      <th>3</th>\n",
              "      <td>11.42</td>\n",
              "      <td>20.38</td>\n",
              "      <td>77.58</td>\n",
              "      <td>386.1</td>\n",
              "      <td>0.14250</td>\n",
              "      <td>0.28390</td>\n",
              "      <td>0.2414</td>\n",
              "      <td>0.10520</td>\n",
              "      <td>0.2597</td>\n",
              "      <td>0.09744</td>\n",
              "      <td>0.4956</td>\n",
              "      <td>1.1560</td>\n",
              "      <td>3.445</td>\n",
              "      <td>27.23</td>\n",
              "      <td>0.009110</td>\n",
              "      <td>0.07458</td>\n",
              "      <td>0.05661</td>\n",
              "      <td>0.01867</td>\n",
              "      <td>0.05963</td>\n",
              "      <td>0.009208</td>\n",
              "      <td>14.91</td>\n",
              "      <td>26.50</td>\n",
              "      <td>98.87</td>\n",
              "      <td>567.7</td>\n",
              "      <td>0.2098</td>\n",
              "      <td>0.8663</td>\n",
              "      <td>0.6869</td>\n",
              "      <td>0.2575</td>\n",
              "      <td>0.6638</td>\n",
              "      <td>0.17300</td>\n",
              "      <td>0</td>\n",
              "    </tr>\n",
              "    <tr>\n",
              "      <th>4</th>\n",
              "      <td>20.29</td>\n",
              "      <td>14.34</td>\n",
              "      <td>135.10</td>\n",
              "      <td>1297.0</td>\n",
              "      <td>0.10030</td>\n",
              "      <td>0.13280</td>\n",
              "      <td>0.1980</td>\n",
              "      <td>0.10430</td>\n",
              "      <td>0.1809</td>\n",
              "      <td>0.05883</td>\n",
              "      <td>0.7572</td>\n",
              "      <td>0.7813</td>\n",
              "      <td>5.438</td>\n",
              "      <td>94.44</td>\n",
              "      <td>0.011490</td>\n",
              "      <td>0.02461</td>\n",
              "      <td>0.05688</td>\n",
              "      <td>0.01885</td>\n",
              "      <td>0.01756</td>\n",
              "      <td>0.005115</td>\n",
              "      <td>22.54</td>\n",
              "      <td>16.67</td>\n",
              "      <td>152.20</td>\n",
              "      <td>1575.0</td>\n",
              "      <td>0.1374</td>\n",
              "      <td>0.2050</td>\n",
              "      <td>0.4000</td>\n",
              "      <td>0.1625</td>\n",
              "      <td>0.2364</td>\n",
              "      <td>0.07678</td>\n",
              "      <td>0</td>\n",
              "    </tr>\n",
              "  </tbody>\n",
              "</table>\n",
              "</div>"
            ],
            "text/plain": [
              "   mean radius  mean texture  ...  worst fractal dimension  class\n",
              "0        17.99         10.38  ...                  0.11890      0\n",
              "1        20.57         17.77  ...                  0.08902      0\n",
              "2        19.69         21.25  ...                  0.08758      0\n",
              "3        11.42         20.38  ...                  0.17300      0\n",
              "4        20.29         14.34  ...                  0.07678      0\n",
              "\n",
              "[5 rows x 31 columns]"
            ]
          },
          "metadata": {
            "tags": []
          },
          "execution_count": 58
        }
      ]
    },
    {
      "cell_type": "code",
      "metadata": {
        "id": "5_cIRVkTp14T",
        "colab_type": "code",
        "outputId": "63e23de3-29ba-48f3-bea5-ad2e2cd4d908",
        "colab": {
          "base_uri": "https://localhost:8080/",
          "height": 343
        }
      },
      "source": [
        "data.describe()"
      ],
      "execution_count": 0,
      "outputs": [
        {
          "output_type": "execute_result",
          "data": {
            "text/html": [
              "<div>\n",
              "<style scoped>\n",
              "    .dataframe tbody tr th:only-of-type {\n",
              "        vertical-align: middle;\n",
              "    }\n",
              "\n",
              "    .dataframe tbody tr th {\n",
              "        vertical-align: top;\n",
              "    }\n",
              "\n",
              "    .dataframe thead th {\n",
              "        text-align: right;\n",
              "    }\n",
              "</style>\n",
              "<table border=\"1\" class=\"dataframe\">\n",
              "  <thead>\n",
              "    <tr style=\"text-align: right;\">\n",
              "      <th></th>\n",
              "      <th>mean radius</th>\n",
              "      <th>mean texture</th>\n",
              "      <th>mean perimeter</th>\n",
              "      <th>mean area</th>\n",
              "      <th>mean smoothness</th>\n",
              "      <th>mean compactness</th>\n",
              "      <th>mean concavity</th>\n",
              "      <th>mean concave points</th>\n",
              "      <th>mean symmetry</th>\n",
              "      <th>mean fractal dimension</th>\n",
              "      <th>radius error</th>\n",
              "      <th>texture error</th>\n",
              "      <th>perimeter error</th>\n",
              "      <th>area error</th>\n",
              "      <th>smoothness error</th>\n",
              "      <th>compactness error</th>\n",
              "      <th>concavity error</th>\n",
              "      <th>concave points error</th>\n",
              "      <th>symmetry error</th>\n",
              "      <th>fractal dimension error</th>\n",
              "      <th>worst radius</th>\n",
              "      <th>worst texture</th>\n",
              "      <th>worst perimeter</th>\n",
              "      <th>worst area</th>\n",
              "      <th>worst smoothness</th>\n",
              "      <th>worst compactness</th>\n",
              "      <th>worst concavity</th>\n",
              "      <th>worst concave points</th>\n",
              "      <th>worst symmetry</th>\n",
              "      <th>worst fractal dimension</th>\n",
              "      <th>class</th>\n",
              "    </tr>\n",
              "  </thead>\n",
              "  <tbody>\n",
              "    <tr>\n",
              "      <th>count</th>\n",
              "      <td>569.000000</td>\n",
              "      <td>569.000000</td>\n",
              "      <td>569.000000</td>\n",
              "      <td>569.000000</td>\n",
              "      <td>569.000000</td>\n",
              "      <td>569.000000</td>\n",
              "      <td>569.000000</td>\n",
              "      <td>569.000000</td>\n",
              "      <td>569.000000</td>\n",
              "      <td>569.000000</td>\n",
              "      <td>569.000000</td>\n",
              "      <td>569.000000</td>\n",
              "      <td>569.000000</td>\n",
              "      <td>569.000000</td>\n",
              "      <td>569.000000</td>\n",
              "      <td>569.000000</td>\n",
              "      <td>569.000000</td>\n",
              "      <td>569.000000</td>\n",
              "      <td>569.000000</td>\n",
              "      <td>569.000000</td>\n",
              "      <td>569.000000</td>\n",
              "      <td>569.000000</td>\n",
              "      <td>569.000000</td>\n",
              "      <td>569.000000</td>\n",
              "      <td>569.000000</td>\n",
              "      <td>569.000000</td>\n",
              "      <td>569.000000</td>\n",
              "      <td>569.000000</td>\n",
              "      <td>569.000000</td>\n",
              "      <td>569.000000</td>\n",
              "      <td>569.000000</td>\n",
              "    </tr>\n",
              "    <tr>\n",
              "      <th>mean</th>\n",
              "      <td>14.127292</td>\n",
              "      <td>19.289649</td>\n",
              "      <td>91.969033</td>\n",
              "      <td>654.889104</td>\n",
              "      <td>0.096360</td>\n",
              "      <td>0.104341</td>\n",
              "      <td>0.088799</td>\n",
              "      <td>0.048919</td>\n",
              "      <td>0.181162</td>\n",
              "      <td>0.062798</td>\n",
              "      <td>0.405172</td>\n",
              "      <td>1.216853</td>\n",
              "      <td>2.866059</td>\n",
              "      <td>40.337079</td>\n",
              "      <td>0.007041</td>\n",
              "      <td>0.025478</td>\n",
              "      <td>0.031894</td>\n",
              "      <td>0.011796</td>\n",
              "      <td>0.020542</td>\n",
              "      <td>0.003795</td>\n",
              "      <td>16.269190</td>\n",
              "      <td>25.677223</td>\n",
              "      <td>107.261213</td>\n",
              "      <td>880.583128</td>\n",
              "      <td>0.132369</td>\n",
              "      <td>0.254265</td>\n",
              "      <td>0.272188</td>\n",
              "      <td>0.114606</td>\n",
              "      <td>0.290076</td>\n",
              "      <td>0.083946</td>\n",
              "      <td>0.627417</td>\n",
              "    </tr>\n",
              "    <tr>\n",
              "      <th>std</th>\n",
              "      <td>3.524049</td>\n",
              "      <td>4.301036</td>\n",
              "      <td>24.298981</td>\n",
              "      <td>351.914129</td>\n",
              "      <td>0.014064</td>\n",
              "      <td>0.052813</td>\n",
              "      <td>0.079720</td>\n",
              "      <td>0.038803</td>\n",
              "      <td>0.027414</td>\n",
              "      <td>0.007060</td>\n",
              "      <td>0.277313</td>\n",
              "      <td>0.551648</td>\n",
              "      <td>2.021855</td>\n",
              "      <td>45.491006</td>\n",
              "      <td>0.003003</td>\n",
              "      <td>0.017908</td>\n",
              "      <td>0.030186</td>\n",
              "      <td>0.006170</td>\n",
              "      <td>0.008266</td>\n",
              "      <td>0.002646</td>\n",
              "      <td>4.833242</td>\n",
              "      <td>6.146258</td>\n",
              "      <td>33.602542</td>\n",
              "      <td>569.356993</td>\n",
              "      <td>0.022832</td>\n",
              "      <td>0.157336</td>\n",
              "      <td>0.208624</td>\n",
              "      <td>0.065732</td>\n",
              "      <td>0.061867</td>\n",
              "      <td>0.018061</td>\n",
              "      <td>0.483918</td>\n",
              "    </tr>\n",
              "    <tr>\n",
              "      <th>min</th>\n",
              "      <td>6.981000</td>\n",
              "      <td>9.710000</td>\n",
              "      <td>43.790000</td>\n",
              "      <td>143.500000</td>\n",
              "      <td>0.052630</td>\n",
              "      <td>0.019380</td>\n",
              "      <td>0.000000</td>\n",
              "      <td>0.000000</td>\n",
              "      <td>0.106000</td>\n",
              "      <td>0.049960</td>\n",
              "      <td>0.111500</td>\n",
              "      <td>0.360200</td>\n",
              "      <td>0.757000</td>\n",
              "      <td>6.802000</td>\n",
              "      <td>0.001713</td>\n",
              "      <td>0.002252</td>\n",
              "      <td>0.000000</td>\n",
              "      <td>0.000000</td>\n",
              "      <td>0.007882</td>\n",
              "      <td>0.000895</td>\n",
              "      <td>7.930000</td>\n",
              "      <td>12.020000</td>\n",
              "      <td>50.410000</td>\n",
              "      <td>185.200000</td>\n",
              "      <td>0.071170</td>\n",
              "      <td>0.027290</td>\n",
              "      <td>0.000000</td>\n",
              "      <td>0.000000</td>\n",
              "      <td>0.156500</td>\n",
              "      <td>0.055040</td>\n",
              "      <td>0.000000</td>\n",
              "    </tr>\n",
              "    <tr>\n",
              "      <th>25%</th>\n",
              "      <td>11.700000</td>\n",
              "      <td>16.170000</td>\n",
              "      <td>75.170000</td>\n",
              "      <td>420.300000</td>\n",
              "      <td>0.086370</td>\n",
              "      <td>0.064920</td>\n",
              "      <td>0.029560</td>\n",
              "      <td>0.020310</td>\n",
              "      <td>0.161900</td>\n",
              "      <td>0.057700</td>\n",
              "      <td>0.232400</td>\n",
              "      <td>0.833900</td>\n",
              "      <td>1.606000</td>\n",
              "      <td>17.850000</td>\n",
              "      <td>0.005169</td>\n",
              "      <td>0.013080</td>\n",
              "      <td>0.015090</td>\n",
              "      <td>0.007638</td>\n",
              "      <td>0.015160</td>\n",
              "      <td>0.002248</td>\n",
              "      <td>13.010000</td>\n",
              "      <td>21.080000</td>\n",
              "      <td>84.110000</td>\n",
              "      <td>515.300000</td>\n",
              "      <td>0.116600</td>\n",
              "      <td>0.147200</td>\n",
              "      <td>0.114500</td>\n",
              "      <td>0.064930</td>\n",
              "      <td>0.250400</td>\n",
              "      <td>0.071460</td>\n",
              "      <td>0.000000</td>\n",
              "    </tr>\n",
              "    <tr>\n",
              "      <th>50%</th>\n",
              "      <td>13.370000</td>\n",
              "      <td>18.840000</td>\n",
              "      <td>86.240000</td>\n",
              "      <td>551.100000</td>\n",
              "      <td>0.095870</td>\n",
              "      <td>0.092630</td>\n",
              "      <td>0.061540</td>\n",
              "      <td>0.033500</td>\n",
              "      <td>0.179200</td>\n",
              "      <td>0.061540</td>\n",
              "      <td>0.324200</td>\n",
              "      <td>1.108000</td>\n",
              "      <td>2.287000</td>\n",
              "      <td>24.530000</td>\n",
              "      <td>0.006380</td>\n",
              "      <td>0.020450</td>\n",
              "      <td>0.025890</td>\n",
              "      <td>0.010930</td>\n",
              "      <td>0.018730</td>\n",
              "      <td>0.003187</td>\n",
              "      <td>14.970000</td>\n",
              "      <td>25.410000</td>\n",
              "      <td>97.660000</td>\n",
              "      <td>686.500000</td>\n",
              "      <td>0.131300</td>\n",
              "      <td>0.211900</td>\n",
              "      <td>0.226700</td>\n",
              "      <td>0.099930</td>\n",
              "      <td>0.282200</td>\n",
              "      <td>0.080040</td>\n",
              "      <td>1.000000</td>\n",
              "    </tr>\n",
              "    <tr>\n",
              "      <th>75%</th>\n",
              "      <td>15.780000</td>\n",
              "      <td>21.800000</td>\n",
              "      <td>104.100000</td>\n",
              "      <td>782.700000</td>\n",
              "      <td>0.105300</td>\n",
              "      <td>0.130400</td>\n",
              "      <td>0.130700</td>\n",
              "      <td>0.074000</td>\n",
              "      <td>0.195700</td>\n",
              "      <td>0.066120</td>\n",
              "      <td>0.478900</td>\n",
              "      <td>1.474000</td>\n",
              "      <td>3.357000</td>\n",
              "      <td>45.190000</td>\n",
              "      <td>0.008146</td>\n",
              "      <td>0.032450</td>\n",
              "      <td>0.042050</td>\n",
              "      <td>0.014710</td>\n",
              "      <td>0.023480</td>\n",
              "      <td>0.004558</td>\n",
              "      <td>18.790000</td>\n",
              "      <td>29.720000</td>\n",
              "      <td>125.400000</td>\n",
              "      <td>1084.000000</td>\n",
              "      <td>0.146000</td>\n",
              "      <td>0.339100</td>\n",
              "      <td>0.382900</td>\n",
              "      <td>0.161400</td>\n",
              "      <td>0.317900</td>\n",
              "      <td>0.092080</td>\n",
              "      <td>1.000000</td>\n",
              "    </tr>\n",
              "    <tr>\n",
              "      <th>max</th>\n",
              "      <td>28.110000</td>\n",
              "      <td>39.280000</td>\n",
              "      <td>188.500000</td>\n",
              "      <td>2501.000000</td>\n",
              "      <td>0.163400</td>\n",
              "      <td>0.345400</td>\n",
              "      <td>0.426800</td>\n",
              "      <td>0.201200</td>\n",
              "      <td>0.304000</td>\n",
              "      <td>0.097440</td>\n",
              "      <td>2.873000</td>\n",
              "      <td>4.885000</td>\n",
              "      <td>21.980000</td>\n",
              "      <td>542.200000</td>\n",
              "      <td>0.031130</td>\n",
              "      <td>0.135400</td>\n",
              "      <td>0.396000</td>\n",
              "      <td>0.052790</td>\n",
              "      <td>0.078950</td>\n",
              "      <td>0.029840</td>\n",
              "      <td>36.040000</td>\n",
              "      <td>49.540000</td>\n",
              "      <td>251.200000</td>\n",
              "      <td>4254.000000</td>\n",
              "      <td>0.222600</td>\n",
              "      <td>1.058000</td>\n",
              "      <td>1.252000</td>\n",
              "      <td>0.291000</td>\n",
              "      <td>0.663800</td>\n",
              "      <td>0.207500</td>\n",
              "      <td>1.000000</td>\n",
              "    </tr>\n",
              "  </tbody>\n",
              "</table>\n",
              "</div>"
            ],
            "text/plain": [
              "       mean radius  mean texture  ...  worst fractal dimension       class\n",
              "count   569.000000    569.000000  ...               569.000000  569.000000\n",
              "mean     14.127292     19.289649  ...                 0.083946    0.627417\n",
              "std       3.524049      4.301036  ...                 0.018061    0.483918\n",
              "min       6.981000      9.710000  ...                 0.055040    0.000000\n",
              "25%      11.700000     16.170000  ...                 0.071460    0.000000\n",
              "50%      13.370000     18.840000  ...                 0.080040    1.000000\n",
              "75%      15.780000     21.800000  ...                 0.092080    1.000000\n",
              "max      28.110000     39.280000  ...                 0.207500    1.000000\n",
              "\n",
              "[8 rows x 31 columns]"
            ]
          },
          "metadata": {
            "tags": []
          },
          "execution_count": 59
        }
      ]
    },
    {
      "cell_type": "code",
      "metadata": {
        "id": "pqlLaN4LsYzW",
        "colab_type": "code",
        "outputId": "907121d9-ac55-4208-e74a-c5b6928a960c",
        "colab": {
          "base_uri": "https://localhost:8080/",
          "height": 69
        }
      },
      "source": [
        "print(data['class'].value_counts())"
      ],
      "execution_count": 0,
      "outputs": [
        {
          "output_type": "stream",
          "text": [
            "1    357\n",
            "0    212\n",
            "Name: class, dtype: int64\n"
          ],
          "name": "stdout"
        }
      ]
    },
    {
      "cell_type": "code",
      "metadata": {
        "id": "ErZpaCEesile",
        "colab_type": "code",
        "outputId": "2471d980-87d6-4562-a05c-8a26e57e8469",
        "colab": {
          "base_uri": "https://localhost:8080/",
          "height": 35
        }
      },
      "source": [
        "breast_cancer.target_names"
      ],
      "execution_count": 0,
      "outputs": [
        {
          "output_type": "execute_result",
          "data": {
            "text/plain": [
              "array(['malignant', 'benign'], dtype='<U9')"
            ]
          },
          "metadata": {
            "tags": []
          },
          "execution_count": 61
        }
      ]
    },
    {
      "cell_type": "code",
      "metadata": {
        "id": "LI7WVVYNsoik",
        "colab_type": "code",
        "outputId": "981790ce-039d-4f00-faaa-28cf1404b335",
        "colab": {
          "base_uri": "https://localhost:8080/",
          "height": 193
        }
      },
      "source": [
        "data.groupby('class').mean()"
      ],
      "execution_count": 0,
      "outputs": [
        {
          "output_type": "execute_result",
          "data": {
            "text/html": [
              "<div>\n",
              "<style scoped>\n",
              "    .dataframe tbody tr th:only-of-type {\n",
              "        vertical-align: middle;\n",
              "    }\n",
              "\n",
              "    .dataframe tbody tr th {\n",
              "        vertical-align: top;\n",
              "    }\n",
              "\n",
              "    .dataframe thead th {\n",
              "        text-align: right;\n",
              "    }\n",
              "</style>\n",
              "<table border=\"1\" class=\"dataframe\">\n",
              "  <thead>\n",
              "    <tr style=\"text-align: right;\">\n",
              "      <th></th>\n",
              "      <th>mean radius</th>\n",
              "      <th>mean texture</th>\n",
              "      <th>mean perimeter</th>\n",
              "      <th>mean area</th>\n",
              "      <th>mean smoothness</th>\n",
              "      <th>mean compactness</th>\n",
              "      <th>mean concavity</th>\n",
              "      <th>mean concave points</th>\n",
              "      <th>mean symmetry</th>\n",
              "      <th>mean fractal dimension</th>\n",
              "      <th>radius error</th>\n",
              "      <th>texture error</th>\n",
              "      <th>perimeter error</th>\n",
              "      <th>area error</th>\n",
              "      <th>smoothness error</th>\n",
              "      <th>compactness error</th>\n",
              "      <th>concavity error</th>\n",
              "      <th>concave points error</th>\n",
              "      <th>symmetry error</th>\n",
              "      <th>fractal dimension error</th>\n",
              "      <th>worst radius</th>\n",
              "      <th>worst texture</th>\n",
              "      <th>worst perimeter</th>\n",
              "      <th>worst area</th>\n",
              "      <th>worst smoothness</th>\n",
              "      <th>worst compactness</th>\n",
              "      <th>worst concavity</th>\n",
              "      <th>worst concave points</th>\n",
              "      <th>worst symmetry</th>\n",
              "      <th>worst fractal dimension</th>\n",
              "    </tr>\n",
              "    <tr>\n",
              "      <th>class</th>\n",
              "      <th></th>\n",
              "      <th></th>\n",
              "      <th></th>\n",
              "      <th></th>\n",
              "      <th></th>\n",
              "      <th></th>\n",
              "      <th></th>\n",
              "      <th></th>\n",
              "      <th></th>\n",
              "      <th></th>\n",
              "      <th></th>\n",
              "      <th></th>\n",
              "      <th></th>\n",
              "      <th></th>\n",
              "      <th></th>\n",
              "      <th></th>\n",
              "      <th></th>\n",
              "      <th></th>\n",
              "      <th></th>\n",
              "      <th></th>\n",
              "      <th></th>\n",
              "      <th></th>\n",
              "      <th></th>\n",
              "      <th></th>\n",
              "      <th></th>\n",
              "      <th></th>\n",
              "      <th></th>\n",
              "      <th></th>\n",
              "      <th></th>\n",
              "      <th></th>\n",
              "    </tr>\n",
              "  </thead>\n",
              "  <tbody>\n",
              "    <tr>\n",
              "      <th>0</th>\n",
              "      <td>17.462830</td>\n",
              "      <td>21.604906</td>\n",
              "      <td>115.365377</td>\n",
              "      <td>978.376415</td>\n",
              "      <td>0.102898</td>\n",
              "      <td>0.145188</td>\n",
              "      <td>0.160775</td>\n",
              "      <td>0.087990</td>\n",
              "      <td>0.192909</td>\n",
              "      <td>0.062680</td>\n",
              "      <td>0.609083</td>\n",
              "      <td>1.210915</td>\n",
              "      <td>4.323929</td>\n",
              "      <td>72.672406</td>\n",
              "      <td>0.006780</td>\n",
              "      <td>0.032281</td>\n",
              "      <td>0.041824</td>\n",
              "      <td>0.015060</td>\n",
              "      <td>0.020472</td>\n",
              "      <td>0.004062</td>\n",
              "      <td>21.134811</td>\n",
              "      <td>29.318208</td>\n",
              "      <td>141.370330</td>\n",
              "      <td>1422.286321</td>\n",
              "      <td>0.144845</td>\n",
              "      <td>0.374824</td>\n",
              "      <td>0.450606</td>\n",
              "      <td>0.182237</td>\n",
              "      <td>0.323468</td>\n",
              "      <td>0.091530</td>\n",
              "    </tr>\n",
              "    <tr>\n",
              "      <th>1</th>\n",
              "      <td>12.146524</td>\n",
              "      <td>17.914762</td>\n",
              "      <td>78.075406</td>\n",
              "      <td>462.790196</td>\n",
              "      <td>0.092478</td>\n",
              "      <td>0.080085</td>\n",
              "      <td>0.046058</td>\n",
              "      <td>0.025717</td>\n",
              "      <td>0.174186</td>\n",
              "      <td>0.062867</td>\n",
              "      <td>0.284082</td>\n",
              "      <td>1.220380</td>\n",
              "      <td>2.000321</td>\n",
              "      <td>21.135148</td>\n",
              "      <td>0.007196</td>\n",
              "      <td>0.021438</td>\n",
              "      <td>0.025997</td>\n",
              "      <td>0.009858</td>\n",
              "      <td>0.020584</td>\n",
              "      <td>0.003636</td>\n",
              "      <td>13.379801</td>\n",
              "      <td>23.515070</td>\n",
              "      <td>87.005938</td>\n",
              "      <td>558.899440</td>\n",
              "      <td>0.124959</td>\n",
              "      <td>0.182673</td>\n",
              "      <td>0.166238</td>\n",
              "      <td>0.074444</td>\n",
              "      <td>0.270246</td>\n",
              "      <td>0.079442</td>\n",
              "    </tr>\n",
              "  </tbody>\n",
              "</table>\n",
              "</div>"
            ],
            "text/plain": [
              "       mean radius  mean texture  ...  worst symmetry  worst fractal dimension\n",
              "class                             ...                                         \n",
              "0        17.462830     21.604906  ...        0.323468                 0.091530\n",
              "1        12.146524     17.914762  ...        0.270246                 0.079442\n",
              "\n",
              "[2 rows x 30 columns]"
            ]
          },
          "metadata": {
            "tags": []
          },
          "execution_count": 62
        }
      ]
    },
    {
      "cell_type": "markdown",
      "metadata": {
        "id": "gBF9QaEztKnH",
        "colab_type": "text"
      },
      "source": [
        "## Train Test Split"
      ]
    },
    {
      "cell_type": "code",
      "metadata": {
        "id": "208hpnT6tPCC",
        "colab_type": "code",
        "colab": {}
      },
      "source": [
        "from sklearn.model_selection import train_test_split"
      ],
      "execution_count": 0,
      "outputs": []
    },
    {
      "cell_type": "code",
      "metadata": {
        "id": "hyY8wqyEuOlD",
        "colab_type": "code",
        "colab": {}
      },
      "source": [
        "X = data.drop('class', axis = 1)\n",
        "Y = data['class']"
      ],
      "execution_count": 0,
      "outputs": []
    },
    {
      "cell_type": "code",
      "metadata": {
        "id": "d_AApQNiuZS-",
        "colab_type": "code",
        "outputId": "e32a5d53-9357-4371-bb69-687415fac841",
        "colab": {
          "base_uri": "https://localhost:8080/",
          "height": 35
        }
      },
      "source": [
        "type(X)"
      ],
      "execution_count": 0,
      "outputs": [
        {
          "output_type": "execute_result",
          "data": {
            "text/plain": [
              "pandas.core.frame.DataFrame"
            ]
          },
          "metadata": {
            "tags": []
          },
          "execution_count": 65
        }
      ]
    },
    {
      "cell_type": "code",
      "metadata": {
        "id": "oyfSUJY9ufvK",
        "colab_type": "code",
        "colab": {}
      },
      "source": [
        "X_train, X_test, Y_train, Y_test = train_test_split(X,Y)"
      ],
      "execution_count": 0,
      "outputs": []
    },
    {
      "cell_type": "code",
      "metadata": {
        "id": "089WkFfIuovv",
        "colab_type": "code",
        "outputId": "5e4c5808-4799-4417-cb53-8e58ce09456a",
        "colab": {
          "base_uri": "https://localhost:8080/",
          "height": 35
        }
      },
      "source": [
        "print(X.shape, X_train.shape, X_test.shape)"
      ],
      "execution_count": 0,
      "outputs": [
        {
          "output_type": "stream",
          "text": [
            "(569, 30) (426, 30) (143, 30)\n"
          ],
          "name": "stdout"
        }
      ]
    },
    {
      "cell_type": "code",
      "metadata": {
        "id": "qLHPs-9ruuaG",
        "colab_type": "code",
        "colab": {}
      },
      "source": [
        "X_train, X_test, Y_train, Y_test = train_test_split(X,Y, test_size=0.1)"
      ],
      "execution_count": 0,
      "outputs": []
    },
    {
      "cell_type": "code",
      "metadata": {
        "id": "wTZTIjR1vDwF",
        "colab_type": "code",
        "outputId": "b7b67712-2042-4323-d9bd-00cba8bd0ce0",
        "colab": {
          "base_uri": "https://localhost:8080/",
          "height": 35
        }
      },
      "source": [
        "print(X.shape, X_train.shape, X_test.shape)"
      ],
      "execution_count": 0,
      "outputs": [
        {
          "output_type": "stream",
          "text": [
            "(569, 30) (512, 30) (57, 30)\n"
          ],
          "name": "stdout"
        }
      ]
    },
    {
      "cell_type": "markdown",
      "metadata": {
        "id": "lZc_NFu9XZAu",
        "colab_type": "text"
      },
      "source": [
        "## Binarization"
      ]
    },
    {
      "cell_type": "code",
      "metadata": {
        "id": "qcaFzy2YXYKY",
        "colab_type": "code",
        "colab": {}
      },
      "source": [
        "import matplotlib.pyplot as plt"
      ],
      "execution_count": 0,
      "outputs": []
    },
    {
      "cell_type": "code",
      "metadata": {
        "id": "LXXxpFEavE1T",
        "colab_type": "code",
        "outputId": "30d5b139-c53e-4ff9-f198-e63a33576ef2",
        "colab": {
          "base_uri": "https://localhost:8080/",
          "height": 377
        }
      },
      "source": [
        "plt.plot(X_train.T,\"*\")\n",
        "plt.xticks(rotation=\"vertical\")\n",
        "plt.show()"
      ],
      "execution_count": 0,
      "outputs": [
        {
          "output_type": "display_data",
          "data": {
            "image/png": "[encoded data removed]",
            "text/plain": [
              "<Figure size 432x288 with 1 Axes>"
            ]
          },
          "metadata": {
            "tags": []
          }
        }
      ]
    },
    {
      "cell_type": "markdown",
      "metadata": {
        "id": "F-yKkVsaaSCA",
        "colab_type": "text"
      },
      "source": [
        "As it can be seen above, the values arent binary. Few features have discrete values whch needs to be binarised, since MP neuron will work only over binary values.\n",
        "\n",
        "We take the mean area feature and try to binarise it based on a lambda condition we pass to it"
      ]
    },
    {
      "cell_type": "code",
      "metadata": {
        "id": "LiPkNjc2YcgU",
        "colab_type": "code",
        "colab": {}
      },
      "source": [
        "X_binarised_train_3 = X_train[\"mean area\"].map(lambda x: 1 if x<1000 else 0)"
      ],
      "execution_count": 0,
      "outputs": []
    },
    {
      "cell_type": "markdown",
      "metadata": {
        "id": "y-LIUPdnaodK",
        "colab_type": "text"
      },
      "source": [
        "The graph below shows that the features are now distributed between 0 and 1"
      ]
    },
    {
      "cell_type": "code",
      "metadata": {
        "id": "2LrI8wiFZcjE",
        "colab_type": "code",
        "outputId": "31edc587-2257-4481-d8b2-a890ed3614bb",
        "colab": {
          "base_uri": "https://localhost:8080/",
          "height": 278
        }
      },
      "source": [
        "plt.plot(X_binarised_train_3.T,\"*\")\n",
        "plt.xticks(rotation=\"vertical\")\n",
        "plt.show()"
      ],
      "execution_count": 0,
      "outputs": [
        {
          "output_type": "display_data",
          "data": {
            "image/png": "[encoded data removed]",
            "text/plain": [
              "<Figure size 432x288 with 1 Axes>"
            ]
          },
          "metadata": {
            "tags": []
          }
        }
      ]
    },
    {
      "cell_type": "markdown",
      "metadata": {
        "id": "aQ1n2O1Sau2B",
        "colab_type": "text"
      },
      "source": [
        "This binarification needs to be applied for all the columns. We use pandas cut method which splits the dataframe into bins. We specify the number of bins to be 2a dn corresponding lables as well.\n",
        "\n",
        "Need to look more about the pandas cut method and it's working"
      ]
    },
    {
      "cell_type": "code",
      "metadata": {
        "id": "3HH5GuuJZgxT",
        "colab_type": "code",
        "colab": {}
      },
      "source": [
        "X_binarised_train = X_train.apply(pd.cut, bins=2, labels=[1,0])"
      ],
      "execution_count": 0,
      "outputs": []
    },
    {
      "cell_type": "code",
      "metadata": {
        "id": "9ufkh7sGaBwu",
        "colab_type": "code",
        "outputId": "c292f90a-0e65-44f5-8878-7f4fbb422db1",
        "colab": {
          "base_uri": "https://localhost:8080/",
          "height": 377
        }
      },
      "source": [
        "plt.plot(X_binarised_train.T,\"*\")\n",
        "plt.xticks(rotation=\"vertical\")\n",
        "plt.show()"
      ],
      "execution_count": 0,
      "outputs": [
        {
          "output_type": "display_data",
          "data": {
            "image/png": "[encoded data removed]",
            "text/plain": [
              "<Figure size 432x288 with 1 Axes>"
            ]
          },
          "metadata": {
            "tags": []
          }
        }
      ]
    },
    {
      "cell_type": "code",
      "metadata": {
        "id": "nAcX_dLkaGQF",
        "colab_type": "code",
        "colab": {}
      },
      "source": [
        "X_binarised_test = X_test.apply(pd.cut, bins=2, labels=[1,0])"
      ],
      "execution_count": 0,
      "outputs": []
    },
    {
      "cell_type": "markdown",
      "metadata": {
        "id": "4_c_4nNdbZpm",
        "colab_type": "text"
      },
      "source": [
        "Conver the pandas dataframes into numpy arrays which must be passed as input to MP neurons"
      ]
    },
    {
      "cell_type": "code",
      "metadata": {
        "id": "JEvbQGskbOYt",
        "colab_type": "code",
        "colab": {}
      },
      "source": [
        "X_binarised_test = X_binarised_test.values\n",
        "X_binarised_train = X_binarised_train.values"
      ],
      "execution_count": 0,
      "outputs": []
    },
    {
      "cell_type": "code",
      "metadata": {
        "id": "LGUw04EjblSk",
        "colab_type": "code",
        "outputId": "3d5e042c-21c7-44f7-fd89-622f16aec78c",
        "colab": {
          "base_uri": "https://localhost:8080/",
          "height": 35
        }
      },
      "source": [
        "type(X_binarised_test)"
      ],
      "execution_count": 0,
      "outputs": [
        {
          "output_type": "execute_result",
          "data": {
            "text/plain": [
              "numpy.ndarray"
            ]
          },
          "metadata": {
            "tags": []
          },
          "execution_count": 83
        }
      ]
    },
    {
      "cell_type": "markdown",
      "metadata": {
        "id": "gSNI-_HJdnxs",
        "colab_type": "text"
      },
      "source": [
        "# Model"
      ]
    },
    {
      "cell_type": "markdown",
      "metadata": {
        "id": "PwZabpgudq5Z",
        "colab_type": "text"
      },
      "source": [
        "MP Neuron works by summing the binary values in a row and trying to see if it is greater than a self set threshold value b. If it is true, the output is positive, esle negative"
      ]
    },
    {
      "cell_type": "code",
      "metadata": {
        "id": "sEjoZBm8fI4T",
        "colab_type": "code",
        "colab": {}
      },
      "source": [
        "from random import randint"
      ],
      "execution_count": 0,
      "outputs": []
    },
    {
      "cell_type": "code",
      "metadata": {
        "id": "mmeVtO0LdpqE",
        "colab_type": "code",
        "outputId": "2d339134-bb46-4e11-fdf8-96f42667240f",
        "colab": {
          "base_uri": "https://localhost:8080/",
          "height": 35
        }
      },
      "source": [
        "b = 3\n",
        "\n",
        "i=randint(0,100)\n",
        "\n",
        "if (np.sum(X_binarised_train[i, :]) >= b):\n",
        "  print(\"MP Neuron is positive\")\n",
        "else:\n",
        "  print(\"MP Neuron is negative\")"
      ],
      "execution_count": 0,
      "outputs": [
        {
          "output_type": "stream",
          "text": [
            "MP Neuron is positive\n"
          ],
          "name": "stdout"
        }
      ]
    },
    {
      "cell_type": "markdown",
      "metadata": {
        "id": "F6zbgBsMeWhi",
        "colab_type": "text"
      },
      "source": [
        "We will check to see if the threshold we set is working fine by checking the ith element in the Y_train and see what value it holds"
      ]
    },
    {
      "cell_type": "code",
      "metadata": {
        "id": "13HCYU2peFTH",
        "colab_type": "code",
        "outputId": "38571a4c-3a6a-4a68-ac7d-4dd5a33fd457",
        "colab": {
          "base_uri": "https://localhost:8080/",
          "height": 35
        }
      },
      "source": [
        "if(Y_train[i] == 1):\n",
        "  print(\"Positive\")\n",
        "else:\n",
        "  print(\"Negative\")"
      ],
      "execution_count": 0,
      "outputs": [
        {
          "output_type": "stream",
          "text": [
            "Negative\n"
          ],
          "name": "stdout"
        }
      ]
    },
    {
      "cell_type": "markdown",
      "metadata": {
        "id": "FfsWNl3jf4m1",
        "colab_type": "text"
      },
      "source": [
        "The predicted and the actual results vary. Hence we have to change the threshold value. One way to predict accuracy of the threshold would be as follows"
      ]
    },
    {
      "cell_type": "code",
      "metadata": {
        "id": "YjRZ7-jGe-88",
        "colab_type": "code",
        "outputId": "8cd3adcc-8379-40ca-805e-8078682b0791",
        "colab": {
          "base_uri": "https://localhost:8080/",
          "height": 35
        }
      },
      "source": [
        "b = 3\n",
        "\n",
        "Y_pred_train = []\n",
        "accurate_rows = 0\n",
        "\n",
        "for x,y in zip(X_binarised_train, Y_train):\n",
        "  Y_pred = np.sum(x)>=b\n",
        "  Y_pred_train.append(Y_pred)\n",
        "  accurate_rows += (y == Y_pred)\n",
        "  \n",
        "print(accurate_rows, accurate_rows/X_binarised_train.shape[0])\n",
        "  \n",
        "  "
      ],
      "execution_count": 0,
      "outputs": [
        {
          "output_type": "stream",
          "text": [
            "84 0.1640625\n"
          ],
          "name": "stdout"
        }
      ]
    },
    {
      "cell_type": "markdown",
      "metadata": {
        "id": "b3GgYJLrg7JV",
        "colab_type": "text"
      },
      "source": [
        "The accuracy is just 16%"
      ]
    },
    {
      "cell_type": "code",
      "metadata": {
        "id": "QYy3op-KgvgA",
        "colab_type": "code",
        "outputId": "d6f3bae9-c40f-4a46-b62c-80cf801732c8",
        "colab": {
          "base_uri": "https://localhost:8080/",
          "height": 553
        }
      },
      "source": [
        "for b in range(X_binarised_train.shape[1]+1):\n",
        "  Y_pred_train = []\n",
        "  accurate_rows = 0\n",
        "\n",
        "  for x,y in zip(X_binarised_train, Y_train):\n",
        "    Y_pred = np.sum(x)>=b\n",
        "    Y_pred_train.append(Y_pred)\n",
        "    accurate_rows += (y == Y_pred)\n",
        "\n",
        "  print(b, accurate_rows/X_binarised_train.shape[0])\n"
      ],
      "execution_count": 0,
      "outputs": [
        {
          "output_type": "stream",
          "text": [
            "0 0.6328125\n",
            "1 0.6328125\n",
            "2 0.6328125\n",
            "3 0.6328125\n",
            "4 0.6328125\n",
            "5 0.6328125\n",
            "6 0.6328125\n",
            "7 0.6328125\n",
            "8 0.6328125\n",
            "9 0.6328125\n",
            "10 0.6328125\n",
            "11 0.6328125\n",
            "12 0.6328125\n",
            "13 0.634765625\n",
            "14 0.63671875\n",
            "15 0.640625\n",
            "16 0.6484375\n",
            "17 0.65625\n",
            "18 0.662109375\n",
            "19 0.666015625\n",
            "20 0.677734375\n",
            "21 0.689453125\n",
            "22 0.70703125\n",
            "23 0.732421875\n",
            "24 0.765625\n",
            "25 0.78515625\n",
            "26 0.814453125\n",
            "27 0.84765625\n",
            "28 0.8359375\n",
            "29 0.8046875\n",
            "30 0.73046875\n"
          ],
          "name": "stdout"
        }
      ]
    },
    {
      "cell_type": "markdown",
      "metadata": {
        "id": "RFNlhwKKtL-i",
        "colab_type": "text"
      },
      "source": [
        "From the inference above, it is seen that when b =0, the accuracy seems to be the highest. Since b cannot be 0, we need to figure out the reason for this\n",
        "\n",
        "The main reason for this is when we look at the mean of the features grouped by the class, we see that most of the features have a mean greater for class=0. Hence we might have supplement the case of assigning the max number of new observations to class=1. This can be done by swapping the label column in the pd.cut step from [0,1] to [1,0]\n",
        "\n",
        "We will now go back in steps and change the value and try out the accuracy again"
      ]
    },
    {
      "cell_type": "code",
      "metadata": {
        "id": "M4mTiGxwhfih",
        "colab_type": "code",
        "outputId": "dfd0e7a3-187d-4667-b1de-129a724be807",
        "colab": {
          "base_uri": "https://localhost:8080/",
          "height": 553
        }
      },
      "source": [
        "for b in range(X_binarised_train.shape[1]+1):\n",
        "  Y_pred_train = []\n",
        "  accurate_rows = 0\n",
        "\n",
        "  for x,y in zip(X_binarised_train, Y_train):\n",
        "    Y_pred = np.sum(x)>=b\n",
        "    Y_pred_train.append(Y_pred)\n",
        "    accurate_rows += (y == Y_pred)\n",
        "\n",
        "  print(b, accurate_rows/X_binarised_train.shape[0])"
      ],
      "execution_count": 0,
      "outputs": [
        {
          "output_type": "stream",
          "text": [
            "0 0.6328125\n",
            "1 0.6328125\n",
            "2 0.6328125\n",
            "3 0.6328125\n",
            "4 0.6328125\n",
            "5 0.6328125\n",
            "6 0.6328125\n",
            "7 0.6328125\n",
            "8 0.6328125\n",
            "9 0.6328125\n",
            "10 0.6328125\n",
            "11 0.6328125\n",
            "12 0.6328125\n",
            "13 0.634765625\n",
            "14 0.63671875\n",
            "15 0.640625\n",
            "16 0.6484375\n",
            "17 0.65625\n",
            "18 0.662109375\n",
            "19 0.666015625\n",
            "20 0.677734375\n",
            "21 0.689453125\n",
            "22 0.70703125\n",
            "23 0.732421875\n",
            "24 0.765625\n",
            "25 0.78515625\n",
            "26 0.814453125\n",
            "27 0.84765625\n",
            "28 0.8359375\n",
            "29 0.8046875\n",
            "30 0.73046875\n"
          ],
          "name": "stdout"
        }
      ]
    },
    {
      "cell_type": "markdown",
      "metadata": {
        "id": "3yctj8nMu0lh",
        "colab_type": "text"
      },
      "source": [
        "Now we see that for b=27, the accuracy seems to be highest at 84%. This proves that the way in which the binarification is done is important when it comes to building an accurate prediction"
      ]
    },
    {
      "cell_type": "code",
      "metadata": {
        "id": "sCnxECuEvcMh",
        "colab_type": "code",
        "colab": {}
      },
      "source": [
        "from sklearn.metrics import accuracy_score"
      ],
      "execution_count": 0,
      "outputs": []
    },
    {
      "cell_type": "code",
      "metadata": {
        "id": "fkDC_SJuuyTM",
        "colab_type": "code",
        "outputId": "9a8a93c9-9bee-471f-d27c-de99bc8fbd3c",
        "colab": {
          "base_uri": "https://localhost:8080/",
          "height": 35
        }
      },
      "source": [
        "b=27\n",
        "\n",
        "Y_pred_test = []\n",
        "\n",
        "for x in X_binarised_test:\n",
        "  Y_pred = np.sum(x)>=b\n",
        "  Y_pred_test.append(Y_pred)\n",
        "  \n",
        "accuracy = accuracy_score(Y_pred_test, Y_test)\n",
        "\n",
        "print(b, accuracy)"
      ],
      "execution_count": 0,
      "outputs": [
        {
          "output_type": "stream",
          "text": [
            "27 0.8771929824561403\n"
          ],
          "name": "stdout"
        }
      ]
    },
    {
      "cell_type": "markdown",
      "metadata": {
        "id": "UVLfPjN_w6Fy",
        "colab_type": "text"
      },
      "source": [
        "## MP Neuron Class"
      ]
    },
    {
      "cell_type": "code",
      "metadata": {
        "id": "VjPFd-Jlvz9L",
        "colab_type": "code",
        "colab": {}
      },
      "source": [
        "class MPNeuron:\n",
        "  \n",
        "  def __init__(self):\n",
        "    self.b=None\n",
        "    \n",
        "  def model(self, x):\n",
        "    return (sum(x) >= self.b)\n",
        "  \n",
        "  def predict(self, X):\n",
        "    Y = []\n",
        "    \n",
        "    for x in X:\n",
        "      result = self.model(x)\n",
        "      Y.append(result)\n",
        "    \n",
        "    return np.array(Y)\n",
        "  \n",
        "  def fit(self, X, Y):\n",
        "    accuracy = {}\n",
        "    \n",
        "    for b in range(X_binarised_train.shape[1]+1):\n",
        "      self.b = b\n",
        "      Y_pred = self.predict(X)\n",
        "    \n",
        "      accuracy[b] = accuracy_score(Y_pred, Y)\n",
        "\n",
        "    best_b = max(accuracy, key=accuracy.get)\n",
        "    self.b = best_b\n",
        "    \n",
        "    print(\"Optimal value for b is \", self.b)\n",
        "    print(\"Accuracy is \", accuracy[best_b])"
      ],
      "execution_count": 0,
      "outputs": []
    },
    {
      "cell_type": "code",
      "metadata": {
        "id": "uqgYXNSV1CjE",
        "colab_type": "code",
        "outputId": "30cd9267-abb3-4fc7-aade-0be423def7a4",
        "colab": {
          "base_uri": "https://localhost:8080/",
          "height": 52
        }
      },
      "source": [
        "mp_neuron = MPNeuron()\n",
        "mp_neuron.fit(X_binarised_train, Y_train)"
      ],
      "execution_count": 0,
      "outputs": [
        {
          "output_type": "stream",
          "text": [
            "Optimal value for b is  27\n",
            "Accuracy is  0.84765625\n"
          ],
          "name": "stdout"
        }
      ]
    },
    {
      "cell_type": "code",
      "metadata": {
        "id": "OBzT02Mr1MVN",
        "colab_type": "code",
        "colab": {}
      },
      "source": [
        "y_test_pred = mp_neuron.predict(X_binarised_test)\n",
        "accuracy_test = accuracy_score(y_test_pred, Y_test)"
      ],
      "execution_count": 0,
      "outputs": []
    },
    {
      "cell_type": "code",
      "metadata": {
        "id": "JTCLKZ9y2EIk",
        "colab_type": "code",
        "outputId": "3dcc2889-aa07-4b89-8151-8ee795dd757b",
        "colab": {
          "base_uri": "https://localhost:8080/",
          "height": 35
        }
      },
      "source": [
        "print(accuracy_test)"
      ],
      "execution_count": 0,
      "outputs": [
        {
          "output_type": "stream",
          "text": [
            "0.8771929824561403\n"
          ],
          "name": "stdout"
        }
      ]
    },
    {
      "cell_type": "markdown",
      "metadata": {
        "id": "aNUnLrOJ4vY0",
        "colab_type": "text"
      },
      "source": [
        "# Perceptron Class"
      ]
    },
    {
      "cell_type": "markdown",
      "metadata": {
        "id": "8N4pZqZY8J51",
        "colab_type": "text"
      },
      "source": [
        "Since perceptron model does not require binary inputs to function, we can pass the non binarised data to it. But the pandas dataframe needs to be converted to numpy array"
      ]
    },
    {
      "cell_type": "code",
      "metadata": {
        "id": "xEVRmcfv7h0E",
        "colab_type": "code",
        "outputId": "61bf1916-40d4-4273-d169-84362d588921",
        "colab": {
          "base_uri": "https://localhost:8080/",
          "height": 183
        }
      },
      "source": [
        "X_train = X_train.values\n",
        "X_test = X_test.values"
      ],
      "execution_count": 0,
      "outputs": [
        {
          "output_type": "error",
          "ename": "AttributeError",
          "evalue": "ignored",
          "traceback": [
            "\u001b[0;31m---------------------------------------------------------------------------\u001b[0m",
            "\u001b[0;31mAttributeError\u001b[0m                            Traceback (most recent call last)",
            "\u001b[0;32m<ipython-input-140-438303539bfd>\u001b[0m in \u001b[0;36m<module>\u001b[0;34m()\u001b[0m\n\u001b[0;32m----> 1\u001b[0;31m \u001b[0mX_train\u001b[0m \u001b[0;34m=\u001b[0m \u001b[0mX_train\u001b[0m\u001b[0;34m.\u001b[0m\u001b[0mvalues\u001b[0m\u001b[0;34m\u001b[0m\u001b[0;34m\u001b[0m\u001b[0m\n\u001b[0m\u001b[1;32m      2\u001b[0m \u001b[0mX_test\u001b[0m \u001b[0;34m=\u001b[0m \u001b[0mX_test\u001b[0m\u001b[0;34m.\u001b[0m\u001b[0mvalues\u001b[0m\u001b[0;34m\u001b[0m\u001b[0;34m\u001b[0m\u001b[0m\n",
            "\u001b[0;31mAttributeError\u001b[0m: 'numpy.ndarray' object has no attribute 'values'"
          ]
        }
      ]
    },
    {
      "cell_type": "code",
      "metadata": {
        "id": "Y_LXMID_2jfS",
        "colab_type": "code",
        "colab": {}
      },
      "source": [
        "class Perceptron:\n",
        "  \n",
        "  def __init__(self):\n",
        "    self.w = None\n",
        "    self.b = None\n",
        "    \n",
        "    \n",
        "  def model(self,x):\n",
        "    return 1 if (np.dot(self.w,x) >= self.b) else 0\n",
        "    \n",
        "  \n",
        "  def predict(self, X):\n",
        "    Y=[]\n",
        "    \n",
        "    for x in X:\n",
        "      y_pred = self.model(x)\n",
        "      Y.append(y_pred)\n",
        "      \n",
        "    return np.array(Y)\n",
        "    \n",
        "  \n",
        "  def fit(self, X, Y, epochs=1, lr=1):\n",
        "    \n",
        "    # assign a array of ones initially. The length being the number of columns in the dataframe.\n",
        "    # This value of ones will be changed through iteration\n",
        "    self.w = np.ones(X.shape[1])\n",
        "    self.b = 0\n",
        "    \n",
        "    accuracy={}\n",
        "    max_accuracy = 0\n",
        "    \n",
        "    wt_matrix = []\n",
        "    \n",
        "    for i in range(epochs):\n",
        "      for x,y in zip(X,Y):\n",
        "        Y_pred = self.model(x)\n",
        "\n",
        "        if y == 1 and Y_pred == 0:\n",
        "          self.w = self.w + (lr * x)\n",
        "          self.b = self.b + 1\n",
        "        elif y == 0 and Y_pred == 1:\n",
        "          self.w = self.w - (lr * x)\n",
        "          self.b = self.b - 1\n",
        "          \n",
        "      wt_matrix.append(self.w)\n",
        "      accuracy[i] = accuracy_score(self.predict(X), Y)\n",
        "      if(accuracy[i]>max_accuracy):\n",
        "        max_accuracy = accuracy[i]\n",
        "        # Checkpointing is used here to store the max value of the parameter w and b which comes up with different epochs.\n",
        "        # It's not always the case with each epoch, the accuracy increases. It is important to store the best parameters \n",
        "        # so that it can be fetched and used at a later point\n",
        "        chkptw = self.w\n",
        "        chkptb = self.b\n",
        "        \n",
        "    self.w = chkptw\n",
        "    self.b = chkptb\n",
        "    \n",
        "    print(max_accuracy)\n",
        "      \n",
        "    plt.plot(accuracy.values())\n",
        "    plt.show()\n",
        "    \n",
        "    return np.array(wt_matrix)"
      ],
      "execution_count": 0,
      "outputs": []
    },
    {
      "cell_type": "code",
      "metadata": {
        "id": "t7LNJLjb7elT",
        "colab_type": "code",
        "colab": {}
      },
      "source": [
        "perceptron = Perceptron()"
      ],
      "execution_count": 0,
      "outputs": []
    },
    {
      "cell_type": "code",
      "metadata": {
        "id": "WFXPpAkx8WOT",
        "colab_type": "code",
        "outputId": "35c4b602-0e69-420c-8a0f-0d69566af8bb",
        "colab": {
          "base_uri": "https://localhost:8080/",
          "height": 286
        }
      },
      "source": [
        "wt_matrix = perceptron.fit(X_train, Y_train, 100)"
      ],
      "execution_count": 0,
      "outputs": [
        {
          "output_type": "stream",
          "text": [
            "0.91015625\n"
          ],
          "name": "stdout"
        },
        {
          "output_type": "display_data",
          "data": {
            "image/png": "[encoded data removed]",
            "text/plain": [
              "<Figure size 432x288 with 1 Axes>"
            ]
          },
          "metadata": {
            "tags": []
          }
        }
      ]
    },
    {
      "cell_type": "code",
      "metadata": {
        "id": "jI-CHl4Z9WN0",
        "colab_type": "code",
        "outputId": "aff1a433-6113-423c-a490-5c9141dea0d7",
        "colab": {
          "base_uri": "https://localhost:8080/",
          "height": 35
        }
      },
      "source": [
        "Y_pred_test = perceptron.predict(X_test)\n",
        "print(accuracy_score(Y_pred_test, Y_test))"
      ],
      "execution_count": 0,
      "outputs": [
        {
          "output_type": "stream",
          "text": [
            "0.8771929824561403\n"
          ],
          "name": "stdout"
        }
      ]
    },
    {
      "cell_type": "code",
      "metadata": {
        "id": "jGp_LmEy9j-m",
        "colab_type": "code",
        "outputId": "44154db2-47be-4398-8fa3-4d3edef7ead9",
        "colab": {
          "base_uri": "https://localhost:8080/",
          "height": 269
        }
      },
      "source": [
        "plt.plot(perceptron.w)\n",
        "plt.show()"
      ],
      "execution_count": 0,
      "outputs": [
        {
          "output_type": "display_data",
          "data": {
            "image/png": "[encoded data removed]",
            "text/plain": [
              "<Figure size 432x288 with 1 Axes>"
            ]
          },
          "metadata": {
            "tags": []
          }
        }
      ]
    },
    {
      "cell_type": "markdown",
      "metadata": {
        "id": "EaW8YJE_F86X",
        "colab_type": "text"
      },
      "source": [
        "Display animations"
      ]
    },
    {
      "cell_type": "markdown",
      "metadata": {
        "id": "XzuotdxuHUTX",
        "colab_type": "text"
      },
      "source": [
        "Following is the blog post from which the code has been copied to display the animations in a notebook"
      ]
    },
    {
      "cell_type": "code",
      "metadata": {
        "id": "buPeoRz9FxGs",
        "colab_type": "code",
        "colab": {}
      },
      "source": [
        "%matplotlib inline"
      ],
      "execution_count": 0,
      "outputs": []
    },
    {
      "cell_type": "code",
      "metadata": {
        "id": "lnAyWMeLGBoY",
        "colab_type": "code",
        "colab": {}
      },
      "source": [
        "from matplotlib import animation, rc\n",
        "from IPython.display import HTML"
      ],
      "execution_count": 0,
      "outputs": []
    },
    {
      "cell_type": "code",
      "metadata": {
        "id": "UkLerdN2GPhN",
        "colab_type": "code",
        "outputId": "8b8e4ba4-ece7-4868-e535-6bcd713eedab",
        "colab": {
          "base_uri": "https://localhost:8080/",
          "height": 269
        }
      },
      "source": [
        "fig,ax = plt.subplots()\n",
        "\n",
        "ax.set_xlim((0, wt_matrix.shape[1]))\n",
        "ax.set_ylim((-15000,25000))\n",
        "\n",
        "line, = ax.plot([], [], lw=2)"
      ],
      "execution_count": 0,
      "outputs": [
        {
          "output_type": "display_data",
          "data": {
            "image/png": "[encoded data removed]",
            "text/plain": [
              "<Figure size 432x288 with 1 Axes>"
            ]
          },
          "metadata": {
            "tags": []
          }
        }
      ]
    },
    {
      "cell_type": "code",
      "metadata": {
        "id": "FHIF3r98G_q4",
        "colab_type": "code",
        "colab": {}
      },
      "source": [
        "# animation function. This is called sequentially\n",
        "def animate(i):\n",
        "    x = list(range(wt_matrix.shape[1]))\n",
        "    y = wt_matrix[i,:]\n",
        "    line.set_data(x, y)\n",
        "    return (line,)"
      ],
      "execution_count": 0,
      "outputs": []
    },
    {
      "cell_type": "code",
      "metadata": {
        "id": "daarS2HHHD4M",
        "colab_type": "code",
        "colab": {}
      },
      "source": [
        "# call the animator. blit=True means only re-draw the parts that have changed.\n",
        "anim = animation.FuncAnimation(fig, animate, frames=100, interval=200, blit=True)"
      ],
      "execution_count": 0,
      "outputs": []
    },
    {
      "cell_type": "code",
      "metadata": {
        "id": "24ooE_m1HMHH",
        "colab_type": "code",
        "outputId": "9ff49dfd-5597-4a16-e247-b45a5d661f45",
        "colab": {
          "base_uri": "https://localhost:8080/",
          "height": 309
        }
      },
      "source": [
        "HTML(anim.to_html5_video())"
      ],
      "execution_count": 0,
      "outputs": [
        {
          "output_type": "execute_result",
          "data": {
            "text/html": [
              "<video width=\"432\" height=\"288\" controls autoplay loop>\n",
              "  <source type=\"video/mp4\" src=\"data:video/mp4;base64,AAAAHGZ0eXBNNFYgAAACAGlzb21pc28yYXZjMQAAAAhmcmVlAACEc21kYXQAAAKtBgX//6ncRem9\n",
              "5tlIt5Ys2CDZI+7veDI2NCAtIGNvcmUgMTUyIHIyODU0IGU5YTU5MDMgLSBILjI2NC9NUEVHLTQg\n",
              "QVZDIGNvZGVjIC0gQ29weWxlZnQgMjAwMy0yMDE3IC0gaHR0cDovL3d3dy52aWRlb2xhbi5vcmcv\n",
              "eDI2NC5odG1sIC0gb3B0aW9uczogY2FiYWM9MSByZWY9MyBkZWJsb2NrPTE6MDowIGFuYWx5c2U9\n",
              "MHgzOjB4MTEzIG1lPWhleCBzdWJtZT03IHBzeT0xIHBzeV9yZD0xLjAwOjAuMDAgbWl4ZWRfcmVm\n",
              "PTEgbWVfcmFuZ2U9MTYgY2hyb21hX21lPTEgdHJlbGxpcz0xIDh4OGRjdD0xIGNxbT0wIGRlYWR6\n",
              "b25lPTIxLDExIGZhc3RfcHNraXA9MSBjaHJvbWFfcXBfb2Zmc2V0PS0yIHRocmVhZHM9MyBsb29r\n",
              "YWhlYWRfdGhyZWFkcz0xIHNsaWNlZF90aHJlYWRzPTAgbnI9MCBkZWNpbWF0ZT0xIGludGVybGFj\n",
              "ZWQ9MCBibHVyYXlfY29tcGF0PTAgY29uc3RyYWluZWRfaW50cmE9MCBiZnJhbWVzPTMgYl9weXJh\n",
              "bWlkPTIgYl9hZGFwdD0xIGJfYmlhcz0wIGRpcmVjdD0xIHdlaWdodGI9MSBvcGVuX2dvcD0wIHdl\n",
              "aWdodHA9MiBrZXlpbnQ9MjUwIGtleWludF9taW49NSBzY2VuZWN1dD00MCBpbnRyYV9yZWZyZXNo\n",
              "PTAgcmNfbG9va2FoZWFkPTQwIHJjPWNyZiBtYnRyZWU9MSBjcmY9MjMuMCBxY29tcD0wLjYwIHFw\n",
              "bWluPTAgcXBtYXg9NjkgcXBzdGVwPTQgaXBfcmF0aW89MS40MCBhcT0xOjEuMDAAgAAAEn9liIQA\n",
              "Ev/+963fgU3AQO1rulc4tMurlDQ9UfaUpni2SAAAAwADlGX8OsidmA88y6GZ/02b2g1gjvLH4xTy\n",
              "2fmUGzfV9ZvyIPYmqrCcmekF02fBENtN882c8j8QE2tyBs1WnoR/slNLhn5TRelWS/9cLLoFcr7H\n",
              "HJ7V73RnK6L+vkur0JyIhZgaXyn/gq2d+r2IkXF/g+83w+AMa+bWulIQAAAYByXzwH/pSc3EK3DJ\n",
              "HrSjkvXOhRXq9XPKf8BRMbnZ+5aMyhKsdTA8008IUQsnFZBA5VnZ+azPkbt3VqPcE88+IAeDC0Ql\n",
              "1zYi+Y4PQdsPYL3USLhQBDI2eLfTL7SjsHVO0jcEguKgQFQ3Lfbo+rSx7e88L6cQHv/0GhxAmn0G\n",
              "ZKPyJfVg+xKtqSLidd/vU6faKI4d56jR0yMDhixrUZJfJwjSBn/AYhk+sbowmpDkaVbH8QKkrtp9\n",
              "lt4imkjEQ9HX8R5TEBBwirbj8CSsWugGUbys0uTNNBh+d81pQq+pWjUGvHAJZEfzK2J/G8B6HE3I\n",
              "cyZngvU6mStBsImOeIcksqQuv5ao07qY4Llmxk1pgYFAAFUBNihPSOaxTmQccgGtOe74j57bmQc+\n",
              "HZR2lmrNLvYz337Ns/RBoR4NaOuLxMudvX4H07YBF9lDd+TBQ3cdc5TYoxhoFGsOOlOMJ2prXqog\n",
              "wSmOIYcQY+6k/xzX/BTo/T/Ovufd2329GTSfYXzMf427JvVx2tXHbX3h8C0oPFsa8Z+zl+KaLECv\n",
              "zC87H1LIHBkX9WtKT9DPUMAb3Qf177/YAAbqi3X9OdQnaWA5AfKhhSBpB6vkU6XqrlapL55qVqDj\n",
              "jT5VU6y2t8mtItW2CCbBaiw2vcywYa59cd/aABZAsnD8pEmHcs/YVDWAh2I1AACBtZe2oJD80b16\n",
              "TBpWSCjcFuU3eANnkh+cAz+CvyaPc9yjKWOEGYu+tiLCqnDZEXMoKDjlBZ93KxSxKugKSsWj5sbO\n",
              "oesbjDs2XZVTRfvm1sd8/QBnEeA3MkBx01XeWB/7nwMbdOAbIptFb6Xn0Jz/2fOlAQuXgQ2QA9DB\n",
              "HfipWSH77RYMWkhkFMqaRGOrIllkS+j3Na4VeNmp7uBLQ+eVqPUt39L4aQYfQwiGdus56wl9dRfk\n",
              "39h8H+AKtpxXJQTo9gJRiQ7huISb/OA88l/agi3mJuNRYIOA5FzFT249criAdK6Lt4bDE7z49/e1\n",
              "PQPQYRmp3NOq1SVu2xGBiI+fv5QWkyrUM1YV1eaG8KHFc0BJa1ukrrZgXX4mfEFk8uJvBtvJi9ug\n",
              "4XzqbFl7Zq9pYYK6yAzGfDsCjrvJN+GnvHyAh4z+QzhdFtt7fVD1zvhTEsT3zoUV56QJ/55GZG6N\n",
              "htZlLGbg+behOxiuMVtSfF2nNXzRZjgtw8gh8LmOmI7Z4mFQgQZJ124Gqqk3rsJgQW3+nhLqRE3w\n",
              "4l/KHI7VoAIhOJvTKoLhZHwwtogQQUdevF4J8wsd6SmckOyoxtUc5l9cdJ8aAPjawYWANMcJvvdo\n",
              "2wkxCdFLZRwH5vlsaC5j8ScKmaqi5F+gDi4H8ZrNo8SZfWxbDj32axvYS1SwWjJ4i7tAxoW/UmUG\n",
              "EP4OwfYgAAAGtOKswhT5bDm2szbLIKbSCQkaVcHaj3sZCIzWOewGXAtzUggifdj/HDphk3npHxTm\n",
              "/UZXR4RrUzpDtV0FVgmXjdlkJEfLmRc6EauwibkDAAAO3C9OXJLdAiPc6rhSZOJ2J1sVDO0pBO1N\n",
              "XhQzy+CJ03X0Pp198Wjv7ime/bZ5hYfyGrk6TVf5n1/2wKs7eEtEOzsnNRH9zikEvQ+E4u0SWy/H\n",
              "2qs0Q+lon2Bjh5zaK//eEyUcsxUbeD0gGjCzUHxUIaLUO7YNMCquRhO6AOVUxiwsactoeBYt4M1p\n",
              "jivdp2M3zZbW+ohcKyrtghdOQITUCo7VkHRWh5f5q5LZcHa85xj7bwQ8ntOn3oYDZLRNuk1w91XT\n",
              "mWwOqtibEhbarnfLpi9hlt2vUSDsDSTXTfSNMxVk4j+tovPcZYHw3gU7uPGeDCPFEEM6SO8HSrGP\n",
              "qk3rL3BeFnFjtbL2c/O/jXnINz8Io8LkNS4nMBgqt0s2bl9goqFdCqcVxAqGeenW8U7mgub/s/gM\n",
              "mh1ETrsbbqoWzT+/laXw1FiQmc4BBd/jEC61LOieni3qNdEON3S270yP0GU/06hyJ7AiYzCTZfWW\n",
              "acoz5Ka2EGBVnYS+Z0Vit/o49FpGSl/wAeM0IZ0UUNi1k5D1lQDRUPjck/IPWrSoNBXktVHpvWP8\n",
              "BCJgQovDV1veTsPULu2XL73BQFfIMKv+OSSMSjSc4HLhsnquSZ5DC2doYLDf20ZXhmyawNMPHPvk\n",
              "fqYwvGCDWbOjy0D+LyWbAMKphFNNSnJmSmJfVZy6g5/nimGPQulaXa0X6L3TWZrU4dBAIkJ0exTC\n",
              "4Y019HPE/dn/Wv1xT9LQf+P/ZDLOTwTYZE49e68nsmmWN20hL2UpmVpODtrBNqY+EAgpIRcuYbd9\n",
              "cnwSQgC8GZ+GbSrO5xNxjWcrSGlNUJFAc7eXMz742cv1TSwvxnZLh6L0qLGmhA2xAXARwulhAZsB\n",
              "KYliAWcTxUl3AxyIrr26pX1H2QiXYKGTm23PGW0jiPfXdpjmLNURAAPVz1hdJnvlTK5zu9lMHboD\n",
              "YR/LYkCoOtZDcG7HhklzHzJUl55E//XPAZDPar/wS7D7q7/B9HEfYnEi1PJMMr1Wb6x+qAORw6nH\n",
              "2QQNO/5J739RwSrfPFWwGU92RKX/SQ8tn7C4gJ8xDNv6kkr6m2VKq2EPz+7iUrDTL41QjaN710S4\n",
              "kLnwugCm7Ve2utjBSzTXRTmS0Bz0Yf8nfGYhubCKRHOPSNmNCM5dxA6ruPNorJk/le6pE0Wqrj93\n",
              "bk5LvT14Bd2SnE0+PXcTa++8OjBLgMynEWJeJ9HgmPgQ22gQRFzDdhTAsYj9cKAnW1HH7uRPy96n\n",
              "nt7mVp5pE43+MK/eM7dw6SiJWQ4LqaYPU8Fb0ryM+Rzh9JRqVrDLbSJjEO1q3cZchyr4mgQ0En86\n",
              "98Qmrttvuks9B64QLiWkMfQswDki2MeqLILbSX0ALqD7hISjmmDZ6EIypU6CyMBhWAeaJcxs+Wzv\n",
              "nBF/Kw4yTdH8BJFuRW4JrPumaBJ4eOJ7qWKnOVNWrC+D5L7J5YgeKy0YI8UqwNkS5oisv79KEOC+\n",
              "KRjliYQuprwYdJ5uybki7iPmZl926mcL+elQ1sBqSNNYrM055bseEv286+HmR6BC95UM94iVfrWv\n",
              "BbMgV+NfLc5GUQSMYoDj0wqZbPrfnWhRLT7EPR9NP/39o7zq3abiuHDNHMMX3pm0xQ14rRm4xx5r\n",
              "wnV2waRlyy3Axd0OFOveSiyEuRHagLI0Um48svBEwCpmtCmp3D+QJXB1eiIAu/knCZ9Gy2BJqmjV\n",
              "HH9q1MKJZszJkpPjBXDjdzZKH330ZSTK7Mp+qe6wETNr+RUrjwfMd5TNft3kHzJwTO5VlDgmQCJg\n",
              "4raHTCJJbybsQJYpkg904fPwBP9bwAkPv/19six8nnfuRk6KwSJm5FwAHd5bj75bs33mIxbo0Zi3\n",
              "OBnxwgF10aY3z5/iRx9SBNnkk+8Eyh8/WpfthduDxqM2orprJzOuxD7sVvO98qTLk18xIX0AUWkC\n",
              "pF6WXTE3iKLtxNbKYBnzTogKXyQ+Md6MqxOCgf1H+oA219yX8kqJPnOWAeFWrqdTY0c6jRBmXlEU\n",
              "BZ92EEW7OOiinRs6Ah8+/zTM5Fh4XZrB80iJC07nC+aXJ0HlPKQdt11ad5NFtxlaCjNtafxVlgVw\n",
              "EQtHe7BVAF3gtMJnmlaCKkF3R5kKiEHmZagILEKcJetNOIga9TSUyO8vyNLApLUz5Rm00mnfpsP5\n",
              "NFpVYYHkYn59hbU5BiTbgqJyaZ6HtjsSj2WfrTxZZUqL1wsHvELMrRzMXXIXL8C9T6dSBLrQDRGL\n",
              "0+gFFB2CPsIHeV1AbHyoGhPc9mWJ2z6NVSD9/+rpE8FftOtI6q3prH5jr7lJ2dYhlsKVdYRVDjXE\n",
              "8K3l/RNlMh7DNaSmquFjgWySG5V/qd4vC/qJn/yxs1RHr+hv6MSJ7bz7jtpoLgDdiBxWaqXh0t2D\n",
              "ehyFwhC6Kd8y9aC352LvYOVMllOXwq8qRH7bP/UzVWSTCxYhIWkv6BXTAJu2pLrYm956iMmVz6DM\n",
              "W4G8bgnzO3AA+vmkj8+jFv4qxs+M8XwqOunEcKZBG3Yrc6zYwipMHiQIszIuu/166I88500tJmeV\n",
              "4FTRE2/xG1uTCxNzCYOEY8ZuWuZUNLvSTBm2hrYgJProZuST1HTgL+gYgJzJOpkZAqjbIn8ZxkNC\n",
              "Vr1+jNAE3WmmMQRCWEWcT+FdJFdwlC3G97lGJhqpPHDoWG65yXRbl/kr9eG/ZqAM3um0rudUGuMt\n",
              "ovQkzkoXPYw6rqEjhW5bBJbxawwPXen7k6QodYHn9k325lbFZ+7eqwAiyQYawD9nHrtYffCzxHo/\n",
              "gBDpZEpF74WmGQGep153fZ0g3gkPvHW+k+C4aBo4D4/F/QPI0IMBj40oYUiSKBIFu3AIJscfup9c\n",
              "VgJjF5U1Ky7amrzk5gY9bZORClF/FY285v++o9uP3iEyQcriPTc0zUChJ4kMQ14rMgtMhGNRpvVd\n",
              "Y6y+fVrBbShj6S0vSgmod5/mQZb9+s+CmPJBeBmMVTJlA6U8lxpdQIgZe5t9quJ2y4qBb+bxFJBc\n",
              "uFnp4pUFDIMQRbuTaUgqB7moT5bDb9hrkQj4V8TtK3sNr0iardv5CFZODiv+Nkb8BoS7SFRhz4hD\n",
              "148GauBW3WIn/4AOPQmn7FAuggZ7HDXE8aafU0ZNPoWYuFJIGgIZxmfoD2odzydpZCG4GMs2YSMJ\n",
              "WK4ANutMmRfiFO9jqk7SeKataKsZwewcnuEYYi10fLZUUpFJ0O1b7vPsDQjd7jIGZW3dIzia9/Yc\n",
              "oze7G6OPhC2EZdOsNUq7luR2Gd6uhEmDS3K953123w4C0SECYrc7ck2KakjWgUJeq3k9UzNakxFS\n",
              "I3+mZJFz3uL9viJuIjs+sisrlFvT75V7MP3SyJS6XakMLMB9ffKqoo+PgD3Mbpi8YSiNgTHE5/nd\n",
              "+azgm9ZYT7eDjzgCDMxdlnMrJ8NSzNZXiHl/h/pHbsjQGlY6DOt7IjEk2S8e1+McqTgclaxIEFeE\n",
              "kpdJG+Mcgx6NqFZG8tHELKJV6EpI36Se1+McrFrjBeOF1j3zVE+92zauMYKokJRYOFmjZV3bTjA2\n",
              "jrUCpAUGbo3kx7LVOk4hFmoUpNUu9J1dj9hDcQQET/2fRjC/p8eIXi+FuqMBLrioJUEc1oGG9OOf\n",
              "xBlucWPiIevAAxz/ONPmMvStdnY2gIgRRjRVy1rVZpLv93JTePEUohhJLFyg5wbiEofxTybSF/4+\n",
              "a8ey3LEMCAKjQm2YZBay+4poHscSZz/OEX0F2KbQ/nkdPLpGMO4raa9dH011oVyHmpdb+K/gGi4z\n",
              "/WxvLJ7X/D9q/tY3MVNB11P8GWjby1+0rNAJtsdXXm89YZ1rVo+K/HjZXVNsYacjqOLznjJN9EWA\n",
              "cM8OUGEjKyt7Tbt5chtxCL5X4leFZIE6HjQT56sQNdg6ZK287Tyr4RZpINCIFA+X3vfWJN1D2Ll4\n",
              "/IwX9zkKBJRh/AM6loulJXCCD5Jg+6w8ACVVVp4+Ojj4avfJolhNuYxVD5QCh5/UKLOeIaEJ87dU\n",
              "/j6DGxzJAbR7sFu96QYoRz9sd55S1zx7pcOjCIHFxFDCkZvLX3A8y1S+I7MqiDju4VogRQxFDKXq\n",
              "DPn7VVYOBK4pp7O+Tw5kxfpqpiMn7lCF9xJ14dKBGXrkMjXAsNaT2E2bC68nIuv47yHTZtRUhds2\n",
              "vCwMFlD9yDz+NQ9+Rjr0RLCJEP5g2ceQJ2DCCXS6zzpMCrrp7cH/Oc79A5KEbG7Z07tjnyxPuTCs\n",
              "PGWBllFyYa9m0Bfq/+IiEYequBiDVgZCOn4pWucRY42FQzHOi5tSWGvsZMe4llK2y/nev+Lsw2CD\n",
              "5LIHowHOYre799OkIEvvtbgbrhZv60RyFmO2rTgGtmzBL8Vh4iD6lvA/qXohJeKy3DX+rNo+u6j9\n",
              "wtL4uBZWXRadrudPgX/mxQ81Lw9s/bDWLI+9FMD847PT+Fxbpi85VKnbSB4PiIZdymuldGnWFHBk\n",
              "D0mhbfVaDaDv2sFhcsVxhJCJ2i8Ux+i21uVSNnPoJTJ5ucsTf6vINHdGICGgwuz6vsfjx9006wRc\n",
              "U4Yf6VZ6tPfoifIaItFL57rPWBySjRHT5VtSZnsTz5r4oBXSH4HW/qN/njk1nvC4QAAHQcFaAANP\n",
              "AAAE7kGaIWxBL/61KoAijRhlAKJDkg88GDixyouTaN6qewPIFvO+/gyMA2Tt9Lnv+u4Kmlf/j6HQ\n",
              "7pTA4eMM2i2mSpzpGK9B0teJjuDK28Qnn91rFY9cR9rqMsynR4+d6Iy4Af+iKS06kMWwB4GM2BBs\n",
              "VlwAXDXJ1zEgHyx36+etiuXIbsEAWbWc6ge8BCIVofEO4TKdRaMwAeBZsUyi1u5zrD/7qhrW+emB\n",
              "mBxiNwJpNYdo35bQu9xWyPaO2TpMvtuqy5OL3u+jj09atB4na61RVNmH8sWG40iTX6ahAzRN1xex\n",
              "HqP5jTz3hpvkuL9jUcTvvMHPoEWVsWv2NEy3hBz3brKoI+rwqRcS0EVsvTxk2EoDmg7Jl2VC83A9\n",
              "NkwdjRLJHFkwGjPUoFpsjIoW8A9V/Qg7mYwRxBsvoPwzwsphIEWTptqgBtXSyw7+6WcqBS9g6YFA\n",
              "wzV1o0tjBA74eamFj+3xIaqf1n5pQOFFqNEv6WZ7zBv0B2YZGOtaS9OAyV6fFiHMoEAYxHN6Yv0Y\n",
              "QXij2ty55ohT+X2nn3d+3tb4OnM8LDskLlDxz1+tkJSFBRMLUg0oy/7RMLRpTbDu1yH2iq1rM6Mi\n",
              "dO+5l6amMEgsnngC1TCArxU6J2uAxekiiVcaZEpEGOpp/TGkIA38EI2BAUr7+K/ue4Egv33HxYFb\n",
              "2EGCGxYqzUSdbfSXdnHodK/7WeCwSLRv4mTq6VUPIUhjHC1Emg1NyR60YiIsBMntW6xWB933SvXk\n",
              "YfQ4Y4PQMGNBb3IXI8G5EzNvkYYHOEMyT/97FbB379L3tifny5wGWe345kAxt0/NIzokcu5tOEPt\n",
              "BnSJ2TyEibCTF/zK4Leto6e2peBY0NWVLNXbpQ0xUOrczkUGVZtJrzIsZ+9QYoWGq+60umduROen\n",
              "KQ93/S7O0/ERKHHm0Gh8b2knuz2AmyxNis2WvlgBPPG3KhcR2m1C4OgMKag+C7FnLYB//MP4sD35\n",
              "f9d1eLYMKvwPVeWNxFlhPph2q8nTm0zNYgj/KCrmYM909lKBxOucrI1X/ov6sDJ6XfvPGaV08C3T\n",
              "zZ6b39SAUIQ/X3WD4vzJllExicADqqAGJQzijN5rcVua79Unp8Wgb9Rjr62uiiBuc2wrXMWnnoMH\n",
              "K/uz+oV5gly1u7T+I1ddXgguxhvE+WjYh99eTsFyCaYODQ7rA2uVCTkfPKiEwuAidLhKr5xaFGFz\n",
              "sNOU6gNxNI2vkslOOCCV8kG9d9oY9moO0eVwwKjUhHoDsntZg1GkvTZCI4VcaXOig+RgDJDhBKXO\n",
              "dKdQ2XZwtwUxVbIgGAsVVkmta0SRkZkKjdUGNPvlozO3efB6ZAGhIXeoUu1739l87jtxSGApnpmT\n",
              "o8RBKV0AaR2XqudJL2O8FigDY49EylSB9HCQ7bmIiaGe+Olr1fE9vN7wefndJvO/S4aYsNbayGnP\n",
              "NF7eyJxZTFRtlHyUpM724iPI9BeGZIySCpqDuNfO9E6UhtQ+w6x2DxYgzP3Cfvc81Ntpy4CDWfws\n",
              "jvT6qIs3EsHmYUp1ddPVGtp57zJBy5WaPCC5TZ/h1IkMz4uij3A6mNIWCV30z6qprK0w3BvytlQO\n",
              "OKyA0WxLhU7T8gooGrGrEhAAzxrUQf1DEH9S6KFHHd1mmg3w/0B3u4q4WUpEl5Zsw8gzrLaVTKZT\n",
              "eAMX9j0MlPw5j3EgAAAEM0GaQjwhkymEEv/+tSqAAG9+nt+ZwAvzjkfzqre7p3sAk1lNR0msaT/T\n",
              "rzXZ/hxl0TAhvS++94IqwHtk0luQ4+sOAcP5Fp5ZxPETQSCVxB15gdtRCcaSLDcO3Z7Nfsnpt7rK\n",
              "yC3pgVQ2FI40mdaqcOY3lVwyYgGcUAXmpB6NJi7ESkMQjjhYriZSnztwDShHcS5bvSdsuDU7TKim\n",
              "ZIGPFxYcqT2vagjn4Q4F33AaEH9k+fw1wtzgINbAHvxOKrn8LyfPR0Wjop+1P/Hfza955TqH5v80\n",
              "NRBX1QiOjT0+TcJ8s+wMskxZCasgyVPOqJ1jTEdEQxfZchikiBe9jvNaMrMsBXYP6dP59mf0rJeS\n",
              "U4BHb4TuBkim20yIIQ1BIkslbBY40A00OuCaCjpn+brQ2PlYoxnb3aQtwGx4J6oAPcGsgrEB9NzQ\n",
              "0it/tzry/BLCjesZa9C4RK3uBPQD47rWwugcGcuN7X//pdloYLzeQN7bfveCF/+Zo5qNAl2mJtQh\n",
              "ANowlllUGuNa8mXooPdHo6GvbVb1U9WD6p5SqlOS2bbNfQEQPS/N8buxGiEM2RA7U4M2lKDTe7qt\n",
              "4M1bdwGdC6IEKyDXTJdxDt3O9nTgLHPdMSF5mtdbKzgTOWcxNH2oKTzGg9+OMhkvW8IKyiN4IK0o\n",
              "D+7T/h9G0zhe89zVaqW+W36+nPlN97FVpuCVf+uzxv+Tj8jv5NkYufuiTS57l/aTdMupKxbb0XeH\n",
              "YnbR0i4WagfrGyLd+GVw2jBUxipfTiS40P9Rh+L278NIq3x98WR/pLR50w1tOoZY1Z2132yJ0ATT\n",
              "LQ6CZM2MOhX/gOUwZTGpM/2DBFJ5N/I1Ps8NYt3Y2pyAXvTeyJPtVHm05jukbzqFv+EKqc7kRmz8\n",
              "erDKBcrN78D/MpizA0SojKD316v7Stu8boBtnnz1rkgrKhSo38l257QGq2cmh7cW1OffuTNtx1uB\n",
              "gzlIqPluW9yRbqQBe9xquFT6YupFwu7oJBZRgdbgrEYzztHW6XOeLZPIk/6Sw7V0uyVz/cuV3YUU\n",
              "bcaSe799I7dTzJe/3KjUvJxv90OpjXVbX0SrFj1BZtqFsIFLUL0WbdcAnysVrUE/Em9PQW+u+ifJ\n",
              "tO0tBRyE21eqek+q4Gdh425V39+Imu59fwofDSHu+YGmpVE8fCaYQXSE3nb3+Faw+AH4hlzvJ4SH\n",
              "nbZF2Gezbe6z25V7zGCTmLw14WWUMoLn2U2OyXipQYbzvDy0QTsXTVMs9jEdscDFcT0vl7FzpqY/\n",
              "woZFtwKkDRdPvPGDlY+lrIpgfgHe7pNqD4JD1TAdWLxmf/86xxOEV/wWb5MGpCZT1+rEl9/BmJUt\n",
              "rMGdDpRoahkX/zIA2581E8aw6tg5u0Sej8z30kET69QWdY9QrtHSH7KqrIGNjHyDh09jsCBViljL\n",
              "omXHxe6JtOkAAALiQZpjSeEPJlMCCX/+tSqAAJw3GwtmPh5WERiC7LMQMprkB82hgG1O/HC1PdCO\n",
              "L52mOGsr9cL1P6eHI2OTQrNbmzEI41KhuH0fb44zHzCGpj/KJiJ2iGwrsjFi005ZdLhjsax8HTY9\n",
              "vsyf4NEdjjGvbuE5IqK/ZZ9ugDsGkeXR3Gq73QQYYljmi8ty6DGv0oTv3bkBpGdvR1Qd1hCUOTM1\n",
              "PDEz4kuXk/wx7gSG4j64fsM1+KFk4aV0S+Bz6XLWMusypeUo0xyGssIRSnagwz4iAL1M7tk+Wu8u\n",
              "F2Bi+pfkxXMlrGpI74J3rr2nVdhDUKNWtYKWqc+LRTxWBZT6DM9Ibva6ftEQhlfJZRpYGulv9+eL\n",
              "3+6muGAOusw7RNRZxCkeHKzbvfLH/4OcHR1/Qe6se9rlwaANK2U1p/vQwc9ZEXDj7G4aALx/i8fE\n",
              "ACCOoEJQnFX+FxuoWpkxHHO1BrBihitPkqafFhNTSWPxiaDKcJxerpZE4f1PYEsJJasjzTbTfFF4\n",
              "caDN3CMyXcJAEJoMCVjkvolZn6Zov/W4A4pfpaxvh2xMM6AhX6Xn9pv/m16dFpnMI+Z/2ERKm7Vv\n",
              "6c8HAQv7rx2pjZAzRwSP3KR6X3qzj0vlqtonB44mJj/bYLrx+6oG5FkhZLjMoc5aP7A7bFEvV5XL\n",
              "PHCYaSjm0YQtLQaZ27tbNqhveV5AOK46G7jGQEGBEiq98g7Doje8ogLBtDKUVwHD9wNygbMoDbPr\n",
              "YVxtuslYUJ4QMKrtvfuvopy+bs175RBNR2exa2pfqXcRSVj+cIp8DY459Fmx737qQpBxQMOlpHdv\n",
              "Ng0LmRywawF4tJXdw+jWL/+Oi/VcB8mXli3s/50Ss/Rcbw8eHkukgUjqL8IYRM0hJ8eFqsjPkGtb\n",
              "yHDRkdRO3ip6ckQCCypgEXdEpZRgfSZDEpl/U/krbevmDsH5lIyjoTouQdHe4r96KyNZCMrh3gM3\n",
              "+7glveBXrLpAAAAClEGahEnhDyZTAgl//rUqgADe2T0zXAQhIMHKsg8lhwZCh9qH755RYseHPhhk\n",
              "PqFg5HFEAxNsINZPFlza+2eLwgSpwP4dB5ggg+i/PI+JsBw6YaPereuULFQeJB1v1WkcceNGNyOI\n",
              "7SHiFXtEHgjQAm46Zqe5U4QzTUSOyRBrkipS63s3H+dd4HgdBuWN2OGZ4TEMJU0Qv2jgTg1aRwx1\n",
              "VZ33QMu1Fx1fIBU/PIK/BH/coLu4HFH2O9EpF3RxEvZccoD9z2wjDXKleXRcGBQHT9APHqfU9C7N\n",
              "0DN+hCNa2tQ1zyba+OX6soNimEIFPvTR3/O3NdtX27PFAMEY5LlJzalaWUb6eqntYXx+Y4N6c0PZ\n",
              "3oBb/BEQ3yhM5OR+mBdHBaeklYLnlbwwZ71THcDoHdFd14i6uRZ72QwhwTYXSLsRVyG89Wnat6Fm\n",
              "6HtbqfXqnO9VIB/DBTkHGxT81Hu4gs6Ydue/zQCMT2q/lu87Gq74wVB2e7+LhenZxBMc0mspxgx8\n",
              "rears+SJCtK8iro/1Q1+DH9I58BnH221HPUHs6Td/JvJMt8Ssx3m1HvL4SgijLGu+U3KjpKE9gHE\n",
              "0Zg3EbFPQwIgUQ44LHWFyYreURoldPISwZcx5pF9HU29L1qZw1GVCPLxMeoyVrhbhtMXs6f7gTsO\n",
              "Wk7pSJRL6J+aePEhm3d17FD/NozKYJgupSEZO/ymFVQtDvWAwGbryI2pyeyGKEqO3t0XRo6wBRVY\n",
              "wy8hiZkhobyoboayker5BnkwGAqGB2j5Zdi+he2f6Q8gAvFpX4+dEZkv/n6Ub3KSx3/3XTvNQpIt\n",
              "7hVqk7fFiN+dmai4QRYefydIGESrmtA5UQW6euE/fsWCtXeMArrmzH7rZROpgQAAAwFBmqVJ4Q8m\n",
              "UwIJf/61KoAA3nMOFSgCBKwMHCl9WrKusWsNWCFsuer2E2urBQE6XSj854BHDshHsC5TxqncV9g+\n",
              "Bcm93cK85LmDEP24ae1jqHQdnRei6Q8ENbmfX/JOl+ksaQf4BygHNe5dctPTFJSd9jzcVsgg7emA\n",
              "1GZxNTNbLPm5zvZ8fjoeSildyM4BxhtiBAYgpdOjj3DUwFVaLuzAFTKWa4gGo/AVy0qJEncdGBi9\n",
              "gaHkTzKjxLW35RPAfKFKPAoi60U70PekE313dwd8sN8z9DPsWY5nm0ibbVagMSJYLTXEyM92okz3\n",
              "zfcv5vswgzPvTX3EvRDQrqGabWv2tIfysFaGLhnn37vlVvU6AlZTGYFTrsYkGay61YX+aUUEE6hm\n",
              "0ssXoNcaZZtWYXeUcNAUXH8sKihRV9eywv4DG86Mdy7gqKFV5Lr/WJsSkGX+DLhXDhiyKShy+wax\n",
              "NV94t8PaXL9La0tS3QJL/pATKAIsm99KN8SvTulk+aDrVBWcsKuAqJOIJQ1g/DVO4haMdovxvYE4\n",
              "7SDcu41ofuM5mKSyz4PP6zYBF1c+/q9nq9StHuVcfKby9P+bzzveMY6WuKwb2ZIZoDTd6x/tS2wk\n",
              "BWGBMj4SHgOGmie3jTLJPviy/cv5EBAc3YTH2sx8ukp79hz5FyOc7uEXE08+pkFQPEasLLhLz5IU\n",
              "fbPFLq/fg2A6DPl/BxhLTCD+J3DoLZcvR8vwuJ1fiWKUlmTcu4xqSzppbsx7GyBWKk0trx0wymD9\n",
              "fLKbIQgZCr5cALnH0fX9nvBtghGj/MXAtBavFbg9ImqG2jXAYkAvYtBCaoQiv3rlHcTOmWM3MMqZ\n",
              "UjujzjcAuUNSI6xCcVXOaapo+LZoqS+hclHYL/MO0dclgY51vCLmb90osE7dRgCB+RwMOH/m21OA\n",
              "AjPoKd4f6mVx71haZMCwHFqS2bBVqf1xf+Ld1LxqOyR6KHuODKfG0+Mr+uOgE5+MTh5bmDNeuqzR\n",
              "wCtw8d6Ft1FBst/Mm1jGRVFJjlHBAAACZkGaxknhDyZTAgl//rUqgADfRP9xlKgB0tY71I0sCepm\n",
              "zCIFZGqa9D+ia1okUJSNWUlvExCiUZ/E4AM6awIvtYcj5JQ0Pxpmt4sCuI6E8Zt+ex3jzrsBp+FT\n",
              "S7rLpuiDYndtNFDa7xDVVVLJZmNMdHnultwQp93IfOvC7VpC1sXvgBre9+nQdtm+jTMV2zeNh/xA\n",
              "jpbQFfOQhfKupwBVmQpwA/HS4XRlG6UqS1BXV4UZM2akBpq9NUL5u3t9Kbmfx3f4MbAdI/J85Squ\n",
              "mRAIxD8mmPuVJvhJ6p7WPqYx1WN2qad3jqw7IYXakMHA5uY8W6HozzLow7sG60E5TvksZn0lrcnq\n",
              "DEyjwQJctWYOmTQJILQCvtLdmSCM/vZAs8GF0hMiVvVX6iGBghyNafmlCTDTDJZcm4wH3w7dFecL\n",
              "3JJDszlqDho8A5ov5dLHWabzh/eghFIL2sgC/972vQUUyBrYwth7xTxBRETp6NC3A7xcyuTHkPGK\n",
              "4nf4n7jWVKGd/58zKR+gBBLM7K2aC37tSx3UNSvbJCuFtHplZY+t0VMb4Au3CPUOC4OtsVEGHfjc\n",
              "84qn85C0d50gI23CmUw2mNQU1lNm5R4WRzY12CzqXC0J9uOgI3Z4EJwW3fLKO16OxwG5bUgCbf/J\n",
              "BcrIrZR2tl2mC8wvLZVR4aJHeouktX6I0PJG9YJccqOvDu+PpqS8EE8xNFKTiPizrE5mBe44Dwfr\n",
              "TrmGl7bq//LcU5BLfQk1tA9+FE96wmRxPVbHggDJqWj4gbOu5lKbQSicOqKKu2Jm9KMVOvsBmFT4\n",
              "r/lj31YEwcZe/sGhAAACeEGa50nhDyZTAgn//rUqgADeTds20DFoAQjpEOAkyGEeYzHbcLAg26/R\n",
              "5YXHyjc/g/K5hQlXVMvIO5Tx6ILHeRGi6udP9QJL67MD0UtDy89hvLGbBlo6BGsg2Tz0CebtFisd\n",
              "yiO0HSeu2etJK2qs9F6lJ0HfvBsQdXqBaF9zwCGB/z4JLn0OEkOPSGlXSIcNczpOo7pBJEaQXzUr\n",
              "R35c+VCwY486qOAmKxlcErgdvsrZ7bWFVLz+sJpypaHNlV0AoYcb5aYpuV522fPHRtGU0Bo0Q/Ve\n",
              "awozex1bf1kaFENQgJZZxhoDU8uvU7j1YYHIT4DrtIOyTAsLHm3vt8IzaMK7kHOoidUXeGzHSqM6\n",
              "Ha3CkHI38zubxbmzgcofDRji+saArrjvn2KS3+QVVmTDxKinZFdNGj8miCQriAL2K0ukCBfFYvAN\n",
              "OcJr9rYFEpZb8Pxt6HDXYNCY+qprlO9Ks5XFSelxvZCaaM9ufE3eiQCLW4itZ4QPVRDKkHjkWdgs\n",
              "JMlwmQELmebfch9e1ukRVNq85bWzUzK5RHwzHkGvUK72OLMqRiGMBNMEBsDDC3rL06CRdJmkRY5s\n",
              "R4i2y44yieD0hgQOMpoJGJyLZ1nrvwKGnu8Qc1Dcex8bANq0iXkhenyNeBvvyxk7fA4D++VQHdTN\n",
              "qdtFAaDP4jM02epE9fV08XDeh1QZXoDJ8/LaR4IkCBBvJjblqTVTZPV3NyeDw6na7+0sRBESEbf3\n",
              "9eAllGd7kM4A8hHuRAZs6DgBClub7R6+OmU/faDZMjbGAZqozXeEQC9C3F90xDxRiz4B2XMHS4Sm\n",
              "yaFjdwVt4sopwJXiKx4kBsnxDRNBAAADiUGbCUnhDyZTBRE8E//+tSqAAb3yhRJcAJqVAac3RKUe\n",
              "BNDWFvV/UGyQZBoPAeYBlzux5H3D4545y+YHeWPBefmsQJFqtdZ/+ThT2tjnSeNmtzunhMKLJ79j\n",
              "psAVuHyI9Y6CThTmaQDB+CqmjDQbWLjlq556GvC5L87PL4DPOR+6pOf7hMwzwnv47mo+2c1RpEp3\n",
              "cAFq4QB4kj3krec6Osrv+LaN+Xz1WcrqEOmCjAMWey1fPVRjEcrABvvePAi+43LFPp+0L1L9XIyl\n",
              "pO5eJPm4iq4kWeavbdgS7oKLXGfTosgodp1hIeyoaNhgq4ViO7za1IonGlEKlM0PRG/ei0ItZihw\n",
              "nJEhzrEBFgHLIEYREoUxUcIZLQdTy2xZwdPlrVhcR1/dB/vBaE7PPTSKc/SFlhZjZj2Z1dMsHnRS\n",
              "eVRB8/kUAWQe+ZAu1dHgQrPoWvJBAwj23qf6iy55qLbRGBkTByTZ8VxHVcR/f71xK2QridfpPAVj\n",
              "EQb1H8eB7eR1xImEz3E+Ng93ANMAv6FbYbqOJ+7sTzZUpWq23Q9HIaR8Zav01XffLUETA1baDYcj\n",
              "VT86vhMUGxB7mNqAcyTRpxmxt+8pFC/nRWiaGACCPVfE0RXgGVWBDbu7HL6u5c4ZNbZIILuLETX4\n",
              "D9NIVXwXV/MCOJrVPBU9vUvZ1rl9AcatND+SfyxRaUI73RljW1/+ACCsMG9rJP2lot0bBb9NzJPB\n",
              "OGrENWkgmYF7tItDwR1Ph/+oWK0SQEYfH+Ff7DvTYETlN0uU6KC65o0BMP8oQu/44KcxhhUFdfos\n",
              "QbuAKn1ZMq92RyppG3K96IOkY8YXCquy2HyJPc0jm1VDbktr8pq2WWf+Zqi7ThI8/GsPjqy/ROzp\n",
              "Y1l+Cg1OIl4GgSlum727T3XhahevK4fLpxC7ZdA1xqepPbTNqku6qiGB4uB7SEvPMDPQL/qucr0S\n",
              "UcggGSCE7+CGtyd64ao8Jf6CoYr+Tp0U4J0PvbuQ5jShxQvdmHF2efOa99CAt9pCf6VU7kGgXv7h\n",
              "2tm1dXDJ2xXxw9MTIGtBussqQ0EbpFER7jG+uNmkZfsBbrj/F8fw4ap29bjpv5T0Xzep841uPbT7\n",
              "S0jEeBdQ6OxYu4UMY6e1UcyAjwI2NJ/C6tD0cdPc9qF8H/iX16hihLRhaBHOLWMimB8SZboDmyHn\n",
              "v9IuY1CNf+HQpfoFO7lqybugAAAAaQGfKGpD/wAFMtaEQYIrRflDcC+VFlcse5LlDaByNGlFjaYe\n",
              "eiLB9+fFOKxakrxIEJj0scOHJZ8L2igAtka/rhEN3PIZDh+FkM+RqzTdoPtfQMf9FNv/II4uEs9/\n",
              "C2URN0LK17bSZ5JjpgAAAq5BmytJ4Q8mUwU8E//+tSqAAb6wlwkuADcpc2bR+KMG4ww8Zdf/Y5QY\n",
              "T1kooJcTo5isuoAWKbQBG1FftxJFBudaWWMrA9ZOyDCAdA5yABf43VOwnjnLKZz+Hd7JJM+jE/fg\n",
              "0KYKZud8nN3HuqDcJcX0AMwLX81SEQ3TvUUcypYFXC8O6Scvzkcsnrb+PoIfDfOdBzdzWsRpyotR\n",
              "RZL4o9BEty/pQOenFr1PvMdzj7BSnPvZfHUYbeSiha3qCrsq4uhgK/AvvkdNbesopM0gun5aHRo7\n",
              "U88T1oB9h7PN41wikEED1lRvlvZsMCPUf+lXwm0Nif9U1rW9Bwb2oLU0hHewflM40mGGTQ9uM90a\n",
              "D7Jlrl+s+3CPHh7WiqRb/lsW8welG6e+uHmYE2qNEkTrPjICQKZh0YZ9O2xWMOGiAk2d15lrqYL+\n",
              "ZtoRknWP3+I3ZlmlX0fCQv4OTvmvEIHwU5VW6DN0l0eUmHrr743s7Cdr/CJLsHx9YHWH22NvwNLs\n",
              "7tevG1yOzeiFtuCMaORrnkfMXuqj0Z0qnFNstGa6cXZBSxn7e2V62TaPrUnCuUmYkhswBJ7U6bLl\n",
              "xP/HVdcDVPGloEUKDc62ZgJDuUGpVfb1K56ZpTu2y3Q27INg8rUv5nsQF45PH2qtggCB1UGHHdJF\n",
              "sJR0cX6evYoQmZgGPE4iw+PUkppRqjLKpRGdGx9U364ZT+eb5nvKL0849bYJuZdlC8WSxtxykcHI\n",
              "LSxXSbDI4UDL5bpAfatUkHE3dck4sdFI2TwdGyIQd6et/hCc98uRepJB5Mq49aMFLBbkx89mvdEN\n",
              "jpGOKQv2qQpriMJsTLF1TqeHs4YywhpbPdRmVuBovFrNONpNCq5LPk9BL8BweZlN0pjGkBJ2CZln\n",
              "gJWBy39PyC6ClUh9MYElOEewgQAAAEwBn0pqQ/8ABTLWhEG+aApR3qG78kOAUi+5/Z4TCx3Z0ASD\n",
              "ci2I+FCdmH+DhV1bvRK+8n2KCqGqV5cldqOL/9Hfd6y1xa8z2eM9bvt6AAAD+EGbTknhDyZTAgn/\n",
              "/rUqgAN9uP/CCkbx3gL3H88rxhsBDFlB06RUDJKpcQtSps0fy97nkQE9xxTa6FziVDwfA5uJq3Mo\n",
              "zivlbAWHDXkA1NTjuYe/dKJ8+ZAJi849bJM73+1mLUzanMV4fcvH37RaDNRtjbuyV4JeW1GLOw6m\n",
              "mCmFjiDbcGv6X8dCxhKACpMwvS5a/DVl6T+WyO8zKeSZ0JnvZbhSXyObN21EzyswKib3AeoMdcnS\n",
              "x1noUmR4ivjhRdhpI36WZAeAhBLGT7B2QXbGlb00FAZKUSaO3ENg8Fjim8Cd2jWP+nJVq+FxRdWr\n",
              "+jp0IDMQagueZ0WAkCJuE1T20CGiKcR7gvCrEJbPmbyCw95PUi44c9Uc/ifWo5Z+CuNnoxE6U+fm\n",
              "mIkogLjXutzVQKFuI8wfnMmox2USbhw8sVLuTRByXaHIwyHKY1FkhSCQldCsKkWHWBEZiSwoHQ8e\n",
              "EWwVNEeJarKkjIG/Zu4U6vHz3iGxEjZNEf/uEFnP0JlRq4fmkqqX7p1H7w+25Rd/Fa82BYGwb5oS\n",
              "JEuJ6LCzlyXmp4HPoNnuxxDalURCR5euNXSh3or1rV0nrhfhf1FAIDD7c1W2TYnOQkub7wK99QtP\n",
              "pR5cjhLFm8Ud88akkZQ1Cy50OUmQRvXAYIaHIEF07Q19cYC0+7EKPY8VDJx2FZjICxi+wq69nETB\n",
              "vC6VX7gQ4OFZ9VtjG5a7rpnt3pkpwUv9v4G/XudDeuQy82yh+h85q7+RpvwhzaormF92Its1IrAC\n",
              "wFYj3Lyh0VwzG5G1yUXKkrkV6rioNLdmRz4OXG/1bXSy106gtTqWrR72cj1yKVekf0hlk7m/xKgD\n",
              "njlusX8cu7Ht3n+4n6NVSCKxL2alDs3k+MaR9IKZCDpLqi5DJNlFbnpbdwMk/pbKgPqkVS33IdJV\n",
              "z0Mi7fhCAAUocamIgZiYPO8tjeyu4vbiQgJmYPAldERJTE6+nCuSwpPqitML6nBNlzHJkl9PHKlL\n",
              "I9oYV+aDQ7Tr0hMU3UfDFa4zOk2JzvDQY3FtprXazPnEcvNPfwwU6fuXztxwMsuQLRL0ATjhK767\n",
              "/BsLuUVWhcAS39NnyCo1BrrRMCel59xojE9Y4b+4k7lUNzJw5TSqxrcJWXz0yTBgsn98rlsg64Yb\n",
              "QdLYAvXQ119LYyR9/QAd0EYlxLy5t4zVUt8mGrIyIcUGq3y9TRbTGPy9WfF824CIwRU199QAh0/7\n",
              "Jhermlb60KRuwsqChc8ujCbohtK2I05RDRuhBFIhvjLGPOC09vhiKsgWzZV0JgpxxBLWyur+CVRR\n",
              "A5dWf8+jktm2fiYW0eEd7aCcNJMxR4ZSFTZsf5bvT14HbXmAAAAAekGfbEURPBD/AARVbbOH/b7Y\n",
              "5OmWLI7l+rh0Wvi+7f8VMT3qzLvR62vMFcDX3WL6kcTYS0mTC0ub9eM0pZMqKG2PlFdR462dQA3Q\n",
              "zn1TBRMs+Pa5jPiz60E8jvvqm4pyNBTqW+QxPE3HCuBSzDJz8jUWp2Svajs4otDHAAAAagGfjWpD\n",
              "/wAJrBtkGWVc62jzXyPHkpI+eHueeyL7d4Fld2AUG6L05r8Irfem/VNzDzRoYPZPR75CAF0Bx+4n\n",
              "wPk8BcbT7Sbcc+vyklZutE4Ae1EJmfdZv+ZtUsdjSMD7WX9BfGTkxijm6YEAAAOcQZuRSahBaJlM\n",
              "CCf//rUqgAN5zOcKcACNYLdyD83w6AOQITFy6QuJUpOci0ixUrp9mWWylzQJCjTFKl42EgGcL7e+\n",
              "bAJUxymTA80wDA2k/Uoqgj7/5tNuONCf3Nm6ickJsMzz7pIv9Dot5KesQSPY0BjOxvXXMZ5sPKr2\n",
              "ZLy6vYPNfWE2UrQo8U0Rs+U5KoIM8UChqrDbeIWGKGsZLfLpzn8avWM+M63uJpBrKiz64VUQxHCO\n",
              "2GoYH8x9foksoU/0RMdJyEJW3e5+YpAqV4V/KEJd/19b+pum/+s+i164wQqZfwcMwDn6uwj/QtvX\n",
              "pvCXN6eXLvLrZ5ipQhX6W+l7ortAIEA0o/56w6vgrQVtkTKTTY5Qkns/XpCloAAJXYhmqoshGh0v\n",
              "e3nyrGucPNoxaZQP0Jcg1etZ+8GhQEvJINmlvX5PRru66Can/KeuNh2NrTEVOq4jDYBLqUck4OnA\n",
              "sl37JzBrJ6oKjBqoYfafE4PoEmO62IvKeqzTDOyKOXeKSRlakBPPw4En9J9K/3PvRFhY9zLhkOpj\n",
              "HPwn5GXRAcLARwePvRK73xW6YILkBVQ6iR5J2HdOK/k05WyK5229rAGB/ez7HnOuM57RfPfDNWbd\n",
              "k1iYqJ7Z9DAAlGr+x7inmAo/KdUmPEW2/Z2WUEuOY7tCqg5l14HQ1XmoZ3njbz01x4KUKjU9R2Lw\n",
              "fkbBoe4RCQh9CD22ODFeiQp+W19eWO8KaYc7cJJTllEGFdl1QdEPPjt8YejxgFEWi4eGnoLWyS+B\n",
              "3Y57HMyKPKGEzpqj1yTDzsIiNDtYa1+Rw+lwtbhx8mgkcs82IMuPHieLKFDsLjvUVLmFZxW3bfKl\n",
              "zqJW+6L2kCjQzw9mYTJp8d5qdy0RWh+9L8E/nMPxLWoijvwzaNLpncCCSGfZQOy5F1sCnEQ7jzbP\n",
              "OjTmgjv9EN8+iwvrOAlJr2MR4ddlzZ1UQjynNUMgkG1sA8giljCSNdmxtkziG/okZRjx6GFNugdE\n",
              "IG0ksz/x09f7B3iH+fuQvmD7vJI1h4QUDotWNTnrARKbOaGmnyqx4IJC//9dvsTLEP7UbdGrciQx\n",
              "MsDa7rL5ccvEkFL9ad9KrbnVmU2nOvmfucXH2nVo1sJA1mi2aADmM5C3Ald4kAacBGaJLk2Z2sDb\n",
              "JwE14WIVG3qJ589CwS1NqlRX6swyMQlrR1vvDQhO7KFwXc4qlKtZf/zppWafT3C4RHZ7LOcAYtLi\n",
              "OVfFAAAAk0Gfr0URLBD/AARVPiyzhFsysJb56ll8Sitr7mbM7QzyKscAAsXWwtxY37ca+XJ115yf\n",
              "Agsrqkfi+Ty0pwDnxU+DZHAuseVGni4mq8xDDyz80JNtG6P+iluNwfeO4XHD7cffHNn60cZaDCKB\n",
              "OGVuDAbULzkXRvqMZ0fh3cQtR0h9Vb9JyflvzqhBC5Eysojpbs5SqgAAAEoBn9BqQ/8ACaxAYwcU\n",
              "ubF4BX1Mz4184VFvCzmYOCd2XwvX0OIEx53d2WWiw+ipRC7b+a7pekOz6WQbHLyPVsMsbrqY5TU7\n",
              "MBr6CAAAAo5Bm9NJqEFsmUwUTBP//rUqgAN9a/3LBkgBzJHhJrgDojt8pbChmGrU+BcvnHDHVQbK\n",
              "5n4Kw11CHSNGC0NBQqbsISB0DgJ9C6o4Fwj2XhAS+ycuynt+nmsORV7KpCs+k4dpNBoJmZNorT+T\n",
              "Xg5b3K0H34iDnZY0zBj0nQB7HkRZciEXqTi3VPDD7d5eB9h9r9ErrgMEeZ4eIGFExKzloCjns2DE\n",
              "WAp6xVvmyVT9DwYPhVqNUrZuwC3jyKeG9IQk+i5CRfpbb1MhPl52qkw3QdukQk/tmlTjKTxqosoZ\n",
              "MlK0ie5sfqKo3o+EQ8Xho/X/fPNmaK4XYKAF72qN7drr/mFqTkLYCh4V5igGCtzc4RAlvi10RQhc\n",
              "fL67FaSKoPtv7xVt8/l0d4Zo5Evm990cXhs5aPE57eewuNGmQfKR2a5qRzMF+Iga2QZ454dyJ4lY\n",
              "l3PF+5Jv+eQNT9P4JjDUGVh1/QtzbmMSNud95iX4nLky26ou2WlCFdX1S4bMGUSDUdD8I3E1fsPz\n",
              "Kl9AbjpsmTDl4u55yusV6IFcsp1aBSygx+UEG/sbZRpnJf+Ec9Sor/dZJfyoa9kGcHZShPTVNA5p\n",
              "goU4WtYl1RuJq3B0DKaiObHFH88FqH6AqMT5iF1iLnoFYCJ8UfSoT/AUnwG+TmxBRrICRxqN9lgs\n",
              "/58BQk5WT+Stn663reh0klyqyL59OrPnDNAb13HorHH+wddqKhgLji7VbCxWYbnQ5Nb/NvHTP6dX\n",
              "ZAy5Q9e5+HO87z+qoM8lb50oxzbEOvAd59hBRbI3SJD2YieDcJ6kn8wb3mV2FrTO8KNRiGC8PmsT\n",
              "H1FdZBgsAzq17mn0+2Ux/yk4WVS4As4sAy1MzzwSxyWv/W8AAABcAZ/yakP/AAmlrc+P5wcFu9z5\n",
              "4+hjDExAaWWGmXGc1i5FmOWWO0zNpG+yeUVaEnKNarcAJPUG6Y7w2zzJuQYCRDdzgMM8c/8VPuZL\n",
              "eJvoO38/Wi8zh3+p02CWCdAAAAMWQZv2SeEKUmUwIJ///rUqgAN9bD12PSwBFNXC0NGJIG4Di00G\n",
              "tw+qR38IZTfNfeUp/UCxvgndqfzuJUV8a3nrDYJXggJlhLHU/VzIMB8t5ZzZw3ixibdJRr348uh7\n",
              "oO/64Dt3U059MKQ0hbf5hwQL9HxK/OGWGI3mqosi5pWhPrhYQ7CNvlWNDp28soYl1HNDGQcu8xpV\n",
              "KzzAieC1exzSi398lisgoxKNSsrFrZ5iKhcPKd082P4PQ9/L8y+yQ+DFQBVPE9WLSdHR/ibzXzjK\n",
              "+pDNMdk7fmp3NtnAi5Zc3cKfruo3ZdtxpfaY73bFuESfJWW6KTap7buFy3nbo30PnjY08nW4l45Y\n",
              "viE5r7tMLMLRW3omdKBdhHuXxU5nPO1pEKuFm6kbF77urTIAmb1ffZ5ywusp47P2o2Am0vdvE4SA\n",
              "NzUX5sYm9UdGB6tdjZIKmNq9fo/bKjsqjqkEZ5GBfDNCtDjzcdK6/n6iNXUr69ULpD2sMG7MhSg2\n",
              "yObre/YBf3efchkKvsWenoZbm63FMgAPYx9P70/l/MQC8z3vQcKk13TMetNMLrTdANkgA8kJG6jD\n",
              "LT9D4an4p9DPgMlJPUlwdLN0evgB8//BwkVFnlLeu9lKexvNUIgyi4BFJUldpi+YGnhATU0+ioOo\n",
              "XPv3V6uJfrBncTpnPuslVynICBIog4Hp5g4ans0lTaL8PYurgcmr+pO4JqSmPIIwHAaqVA1ZNfGa\n",
              "XnmZm/w0dWNXBuxOa4CeUu71t5IWefmTF5GvAZhPsXuxLQiNCghTE9cOAIXjHvcamWHubt7h17Y4\n",
              "47LDWjrxEWs2Y0ipyf3e0ZzRXA1PG1sRVC9m3JgObxCqaEHOP2WutJw8+m+giiOh+rd1YaCcOeaK\n",
              "2hRbWDAMI1xk6JOCuH7XhUdp/jxx0+GnglSGoJgM+E8QF9MJBbfQId2WeXEsEwmpxGFz+ElIkTgv\n",
              "lcnTUii8itnk3yO90VMF3LZyIXzVlGHB19Z7oZZmYX/cvhatixaihyfp5+61GP+GL/CSZEXNwU54\n",
              "DtYbkNzk0ggygMxCswAAAFZBnhRFNEwQ/wAEUUYatZHzm7mesbO9CdWbQorUOyVsDAHRRflGQ39K\n",
              "KmXNh29NTfsnzgAtw10oLOPhOZZZ76O/7ON5l5BStmpTsy0rm/tBFY0+yK7OgQAAADkBnjVqQ/8A\n",
              "CaG2NPI/b6qeibzPjUFw/jldanWiEQ6t1w0+sTyMQ+1nSbQfX/cOiRtyDgew7huNTNwAAALzQZo5\n",
              "SahBaJlMCCn//taMsAHHjn9k4AKJmBl8gYt5JcMtOJ/Gdl79GrKXPaoqK01oRDy+TtzCF6Fmthi4\n",
              "ez8SymWrWlEKvX0QTtWao4xmyenAuBZYMzA4qKiqgUW7UEqasLeK+f1VPEup33Atx74o5f/259U9\n",
              "h4O1KGqByVLrHQO8Be0Ih/oA08TtEBb5x0YVy1s05SPIMiRwi7/ypS9Rxicqjd2V6kwoHV+aIezW\n",
              "lDSmR0HsRNRuggj/ytkXdDKbOSC8b5HwSSuV6tAKpLM6RacZGpLSYXM8UrWFyxU8uzfQd2Y/50Vf\n",
              "IXOWQ65AP2a9Sr53oDijFlFlYiN8X0nlZ3WmL/a6Xbu7NKy9tALorVuQAnR2vC/J3cx/CdD4lwm4\n",
              "QKECIRr0BrxEJKYKAC30erToynjrfsJsg+lPi/daVsjSCWtHdM71HCtMURaWQHTz9tKW5+0wmC/k\n",
              "MRxUvyiOlWgFwH96ojoXFA9QuZu4BVuE0OYT4GhhB2vj5e163LGn/AQOY8ATf9M0JqQuLwwAeW7D\n",
              "u6BBM2ZaL4qb4AIhgPNzrBzWi8V5fHYqbbJ0UBU3koMVN6sxv7lvqhB9uZUXi0va5l7BCtLC/iem\n",
              "AetH8Pxklzyv+uJ9vyECNTGTbqt6iW6Q1z1f3tuqJnLACpjeKLG3nRG8AMLwhHDU7w8/ScWH5+aS\n",
              "+ZT8pTL5py8NwjmcLBTIRoa1ZZ8D7+YlfuexPG8y/62/5fwPQshLl8oDJOopRD6cUqVgzJzWNJKO\n",
              "AQueyxZnKgH/L5tKZI7sz6iTe+DDT0LQdKycSnQvtzpqOA1jBlui5nxuOyDnNc4QXoA2ayVFGz/X\n",
              "QPRvNijkSYX7ApNWgmHvdGCdMPOU8sDt3r5wnzVSqgshzA0UtMgLHVHBhQuBQLVs/v60HRBfKMzk\n",
              "kX9fcwTc/a/dA6PEGbndDtM9jRLlL4tKI4k96xtaQpRTFShsrm12a5kRTQM7niU3zTTvH+1lW4EK\n",
              "7bffT/VHHcBu0kkAAABdQZ5XRREsEP8ACKrbZxOZux80dNNd3pmL0eTqMs7rhGoLB/2YWvonTotZ\n",
              "+vuQuOuVNgAScb5NJjD93ykqq8DrATz8chytP+I8MvfEQBURjzcKQoojQvJe7kndAkl1AAAAXQGe\n",
              "eGpD/wATWItni5mdrl4NgH5ej+bs3m2rAkmWeTOI9jxj2w93Be4fXACasvcz+EcBILuvfBQ+g9w+\n",
              "e+stQ3eQBbL7zXlEGlCj2FwGUQL6ytfa/f4mnty5m1862AAAAxRBmn1JqEFsmUwIKf/+1oywAcmu\n",
              "812MAHLTrC1QJx84Ip7hDTtA9wvuZfEt/8a4GmUC4v6UnhOAaXoEeXUX6QeHrybzJAiJ1pIIigGZ\n",
              "EWlKEghGiUmkDrOyGOrV6BBtXJz+VQ/U8ISLx5gt3BhzsU5F81YwUPAVmlbpOwIbpNsPDXZzYh89\n",
              "lBpvYKZjqM/rh6yp5cB7Z0KQHuKNUBK3SKotf1ZSHh/WJSyMuatOA7x9Go80E8k7hCrufhOtmOsI\n",
              "RiYA7xRvYN8e7ZmU9xIEUuBstzZ1YwWForF7wC2/WWNdJC0jh8tqYmf2qi5dYkZZt2tvdHi5Fxbo\n",
              "ugHvNYgKX4+/CAuz8sWQ1EWP8ddYxZAQRG8cBncZB9JYh/k9hEczpOarbSDlgpL84134As0JzP6n\n",
              "lJ8x2QLB3gDw5ms9/a+MP2/lM2YPTLhkGQAyeU5xcqEW2S8qH63aWf60yYhCuR3LF2W2d50H07Eb\n",
              "SIBtohiXZ3P2DAK+3SOx7OsCY8jIQ6/gMmWF7ANuIZsqxwPSfrmo6Wk8hhb0ETwaNdztmaqQvgAF\n",
              "ITuomFF/VVF6FfkscGXYtZH6SwrSRSQ4Z37yJPhlcOX4FyBu92i101L6q+t9ZNo+aUMUZgL48YRq\n",
              "HOOViWJJegHpOYRqAeSJTCzetxQ/SasmsXD10XvI0JpkwpUqefnpimDPgOGtwKqN/09ybpvYRyIH\n",
              "3k2VUZCYe+8KMtl5uNN+670xwBWCYBBWTvblI7p2wxLVoDLWtazQAlxoUjmlTnB+lkc3zihPf5Ff\n",
              "IQ8CEjOoKyjy6Vt9H3ONMN5rYCNFQVfJWAaD5qNxTjtTP8YBW3l0+Zsh/KNNRAJZw0Q6VUryBgD2\n",
              "esYVey+lj+JNaJuz/xmtJfODYIhaGsrAssRyjwjw0fG4sRRnIXtGqg2BXRq3YMGcuxJ3VGVy3szH\n",
              "6NUVpIxQS/cf0zAWo6CnA3yUbOxyLFJp/7KKlFL/VNcreYEBrfr6O3LPDqQPxVHt9ZpnBYxtBvmf\n",
              "Q+sOPxkLIzeqO/vsXBUrD74hKlVSuDCJaSFbmwAAAHFBnptFFSwQ/wAIqn7ujiaZhJdfiTsmFoDv\n",
              "Zp8SKIVUAClXUmIha+p2bawmO5rG+fL0jwBwsZvqkvvAAWYt7yDRtl8BIvKOTVTrRF+tTgc6LaIe\n",
              "aNIEX/I06f6P+89tH3f410CwjbwxF38IiqHnkRqr4AAAAF0Bnrp0Q/8AE1Yo584mAdphw/xZ6gGg\n",
              "wowHOYJzXD7BG5dzw2eG3WLS05QAf1AePBDWP6VOkm56S504/EjjngBkczlLxsdBRL4z56yf0iKI\n",
              "C17UUwN4Pj2tE8hPk9MAAABEAZ68akP/ABNXgX/E3hSrlHnOaCH2WCuB8RJmpVFl4dZgBJlokIOj\n",
              "ny3eczMFqfbXNy6guizEkWK2DlRAfUG/vrpHZvUAAANQQZqhSahBbJlMCCn//taMsAHJtY5HGEaA\n",
              "EcFLPZEYmGGRwfUNSp8op7/ViXWxacxzixhEoMuxn83LTlxjpcMMrSHB79OUz/eQ7q5N2SNaTiw/\n",
              "EP+PAeEydQjy9ViqboPCs+v8iCcw4IHW9SAkJDqI412humrSt+OaSbg1SkY55wZnfy9dfHmjeIDe\n",
              "zznm9A5x7MAbgr6zs7BLwZXtRyWfH65v1hAHXe1L6W+Yz5a+Wy2gQrOsD6ZypFReZeiELPy3YgHg\n",
              "uSHv8G5ps6Jo8sYAaUMC1JE18egdAt0j1uhkZkXwEMFcEPxAvXkWrFhxKWLQEBGH/b+C0YbDVFz7\n",
              "PQM6m+moahBr2E9mqvZFud47XlAW9R5t2vzLslaO7cs+ltdBWL69pGOM10ghliYpH6D9K+fQmPoN\n",
              "iv7qJiu6+X426jmfYl4uHOLollWYt6jCVhEPft3LGnhq3Wfdw1ZP26kHd6X431z5V29zg70bWWvS\n",
              "ZpAFOxgRTX1+MkOWjERaqeaN2z30fGcGY1yXuwwL9cmarmyUvWMg+B1c2dQP/Yy6syk+IacHOVq1\n",
              "OIQ3Jii9A+gRLETn42cakBCdNfeo9pddYj2zdoB0E2S3BFP7RHoIsJ2G9gkk85DU4AYDTeUJZRJz\n",
              "TkA0rohyREYBzVb48akRyccNxFPEu1lvOyFTFtqqgTEaf493/HgSECyd8rntGW0pzoZK7GnSXVyD\n",
              "lEW3snr3/Xox+YIPviRASJmon1PqC7ugFy0m2wH0Ygcfrnnshes38P+qlRMtVZIyB2StnlijYE9T\n",
              "MaK3tNITGxmb+ncij4D5H6FMhci29S4ypycNdQ3F7DIqG8YaIlN4vtJky3EsGwITzO+fghB2DdBv\n",
              "+YaLeA4yxOuXa0nDjgYj+hmSCdzxXIWglQuNau+uHXlWJME6R/Cd7BGfhtqOBNY7S50SYjKeB6IV\n",
              "4TAzUxH7Z6x45Jvq0R9CVs/udiec6A1mMdsCugIS8kQ18HvyT/HdzXMhfPTULYZ7nAzR8U35VGEa\n",
              "6XAsB23JEiKbg0eX+QsEHErLOt8H9yeaTM8hLvGS2E6Njxe3e7uRS73JFmYoe/NxAQoTMswBxkBW\n",
              "5EavJxsroLV8Hg1eTe5Ammm82LTpZl1SYl4AAACUQZ7fRRUsEP8ACKlSI3D3zbNkM8kvhHbQSywe\n",
              "AHi/TCiItLHy1FDzoWOQy2E1YRs0vBARFI8EuLWTqwAWvrDYXHsko6PzUZ0Xm5WoqArNbik+EpzL\n",
              "n2S1OpOi/iDHx9OOdENvvo8eVfXgI01DJotz+Ppp8jePBBH/45WW1U4VSE3MnwacEHHMpyETvWlI\n",
              "OofZ129kBwAAAEoBnv50Q/8AE1Yr5SIOJOLZ+B0QTGN1uYgzV3+wiOy45J/mslPTAWGhmilC3btB\n",
              "i3WtNb3JAAeukCBzVvOGuLCsilgRFF7Af/8b0QAAAEQBnuBqQ/8AE1iHWyJiUA1y5VR87r2mga7f\n",
              "oJpeS7FtsYqDpru5iOLd6h4P+UJtaIGil/0FOtpifWUcF9oXPH6YWfOCXAAAAvRBmuVJqEFsmUwI\n",
              "Kf/+1oywAcm1VAoegAEVGTjc0WlouCpFKQUFI6ugCVEfhzv1yMwGdR7DroAZvF+NwiRtVSbSq6Jh\n",
              "0B92qCWWG1aeyhTcS+/C8lP3O9IPe2Evy3Zwc8KDU0jSJ9eFDHh2QRhYEoTKsLA7mCLgqjg8Zgbo\n",
              "St++GnEwuCCD3chj9z37TWNKGtcH16EVcoQyBepJ2TrYztD/GNcBd6BMiW0WFIg6Nf/W2I9bRo3o\n",
              "wGaJ+MCkrfq0YchMYEEaPW80aE1MfjDxb5GWfZCV6dxpQZ7hUlvTQwKnenusbftKmJ8MBXfhvXcv\n",
              "wybj2wNGGG51SZS+/W+Moz5mC9EdKCHHAlMKUz9qf1eeelYNGty8w6moU6GszvwBmIPy8YeqjDB2\n",
              "pF6+OSV4yv/jfz1xknuaAQB87cVPCC0tctS2qzVExOFMAmmRDOn8a19ScZ++elrkyCw0XWUktpKt\n",
              "9rmvIpqVI+VPauHRYond3BJO8lcYI8WDmwDArjsQ0Oj7xBSE9G36VJyF25ZC2hnehQSjpqPMo8JL\n",
              "KwbMhbrInxUKcSJuksf6Wdhu7I22/429H7HtXHg/WTyRF8KMBrnR4uGqWFeM9WZ4V/bA07uOOep4\n",
              "Nuqb7dGq1/II4eFo9Xdqi1Ubp7npDI9c1pOYMtrGlQqEuL3q7nLGWtHsXKqDRcWZp+oN3YTHgOd6\n",
              "PV5qiDmcDoSCbhtqZPlXv0B4ZM7Ds7l04MxErYSWym4NcWQlfYxEGd+Nq5iYGJrXRf7XXYfrqdtG\n",
              "AKIKwhbYhHkq1BIeuviSmUwoKMXnQSV4bYPnJYq97Qg3pwNvGnx+v4JuWkevAd6kFWGZbNMYdepG\n",
              "5aaT1Oy07w63FHnVG8sxzucQdNQfoFdVZWtE4Qv/9ORU5RZS7PDOjn+XGjnzdejIVbF8aPAXnnmd\n",
              "XG/W/QqrW0xVCJGNp0KFEXSxjmDQFBk93yNPwDYl3nFlNnJUFZoeNexrXXuMCIj27+6sS9/36sg2\n",
              "c+1D66cAAACCQZ8DRRUsEP8ACKlS3atS9QswzVQABUVMnZyXU0hW1Em40XEFZC1kBNNgO1CC5Umd\n",
              "C4mIoZUWwpPUqN5Yrjreo97O/98yCVTVi3wugVPoDAy9HiURFISJnxFUFr5Z8cuiX/k+j5kH1+Bh\n",
              "gHSxrTBtqnbol87omd3C0qCr2FZfri0vUAAAAF8BnyJ0Q/8AE1k072a7YO4KNUMLJc+n0rjQ/tlT\n",
              "Ie2OALRKaSl3MRl7iLdcohEy/d30Rjvb/agAy7vZZ8ORx4ZA1nuyfR/+LEeof7I0xsuCntMBfUg1\n",
              "+C9zdf0oYlj9IQAAAEABnyRqQ/8AE1iHWyKk3ORTB6MaMFrqmTV7D3Nj1MFH8Dx9r3HdkxNIk6sC\n",
              "FjpJ0kbsm2sbA1758jiRq7SGJNmBAAAC+UGbKUmoQWyZTAgp//7WjLADjxysksApOkku5yXRQmBQ\n",
              "P16UcpeDiYbBA6aL2JS1o+7k/7mnqFZkPs6fslUlNh9txNLh1mmvFXMG2G04ebKh4gWexjjx0Ksp\n",
              "nFYglqiYneQQvslbx/n8QdPhabXFXgl5RFtNL8Uwtx9D0okk460JsHIYj5VpuN9GwlIIjMcM4QAT\n",
              "Um5e45QI7ULKwzsrcOwm9dfly2c2yM7/RkXX2EQPGwxzCcl6LXI/So1TC4/E5rgDQbcseLW/KOxD\n",
              "JTBqk3s6i6MibSdnPCi6k71luIG4Defom8cLtf2qxxM56a0W+ObDpVaFt3M9tzuB0xvuSBQ8Zn83\n",
              "KyT2s+23WIp1B+BCgiwS6Xizs8g9A9eta9eiZdn8WLH6oOzZAc8duf1g5vquUyKV50gzwU4DQFel\n",
              "ijjG6kMHngPKkXb15xWCJN0kzcpl0ic73J7q2JykQTSto4i9/YgyLH84+8iHfdZj4YPN4pmLA4OF\n",
              "U5YMN42E1n5NfS4H3nRxfq6qjrXxnmbfqAqKbllm4ltUD+7qcPE2RwGwap/Anhp8fS9qj4Z9LrEQ\n",
              "prE/1tvI8RrUXHMwPdn0Sc5CgWp6ZKnXTxVzLHNY5Ic1Ztwtkk9ZsbRhjjw/6F21OuyTfWd3MBBm\n",
              "/aUCmzf66EdklayuMmAA8sOVMVg3TSHIJSujLinEeWpWsduiwrJ1Myig0l6ZuNQcGM2xZAs09ac2\n",
              "q/YMKsEVhFVU5DKDKVJ8oIlewlv+/tt/4Bkm6GNx1vxOdeGG3P9H40Aio9bfz+upxKK0lcbXisLo\n",
              "qf2IoeG/XlJsbiFnFoTScZ1tl34+bgp3Db1Is571jsYRya0vp7GhFStrtMFjO0F6G4WQ7haMABHr\n",
              "lxxq5ZMf4sb9rZvtE2zDNi34Ron32/A5F4e6MQQ9PiWIJXHaG/9GKUHWqvYbLb6+q5sYw3ApX+Jy\n",
              "oD6SqhTh5vJ75Pbxi0Qb8tYiZnqxRovJLaFMGkzHOLpkALjBdGRrnga84+jhAAAAc0GfR0UVLBD/\n",
              "ABFVAhK4hK0uUAxRYBcZa4qu7t3KjBEJRU2IJE5IEnJYxLBD7wIKIyF3WPJgBnIVarmzOGiGqT+U\n",
              "fOlSO1jSfbidWDW8AEnv7SmND5f3yuluYEhUCHpsS2xHh1KoxX+q+MfzdxDhvIc7TzkAAAA+AZ9m\n",
              "dEP/ACaxmc3G46ShgQsSm6HsvOBPNOeA3KET7RHJSDspg25+HGpXxCpWmHzYk45Pq5FJI8bU6RMX\n",
              "TKAAAABCAZ9oakP/ACavCv8XKqkwi2HQyTFAHQzVD42kNRdTegXEkMTyB61CbZ7Yf0OwYZRk+SsE\n",
              "i2xie7zqB4385JzUaAz4AAAC4kGbbUmoQWyZTAgp//7WjLADka5kNJQgxkTNABmgUaSoPrpT3bYt\n",
              "Wr9caRGJFxrqsr9v21AQpG3pVfmxa1PuZAcq+jG2AtjGO9yf6E9npaRY5Z2UZhTkYEeDiQgrP44S\n",
              "VKSUtK9OaOo/SJ1ANRqS6znGFjhlONAJ6Jh8eqpPLp2Ki54vwX5hPg9n08ebegRe1FsecuFmQThh\n",
              "zH1QjtvSCPDGITP/8IY88v4ZIxed6PHb6CpjeKM2cqosWTECGiFxbUOU3bpDOu96Ikmq2mcAv4c/\n",
              "+FpKOPGB05YaynyZazdhQtrRur3Dj3CVIWeIXwGGrIJMGps3ZxfCEemwtmB2sJDeoMw5/YHP8KuP\n",
              "z+BqcSnVbOKG7GIGdpRMkU8zKBPV75JGwiXa4l3L8bVRvmp0/Ge0z6wIPiTPuGTpyNHnIR/FSBfV\n",
              "M2FPSd/xmLkUvjcgj3wli67HLCqkgsv9RpWekp3etOUBYBpEnn2OiMZgEm9frx4qcjByI69hJST7\n",
              "thJk5svAjeJ2pBLU3ja8Qy6aUhEOk+ZpQ7QyppzmY9Fk2ehVeEcCHDRGTiIaFTDWbHVFrUvTF3Vy\n",
              "urbAzhSw4hj8KMvNQ9YZJtDbIajs6TxotV+fELeu8vu5+hYPNdcc4DY1Mv4gtFKGuJvyKGoJFZdG\n",
              "ycHbLs8y3iyARSLAb3Tn7kIrLfTEVuHZkMK7ZQQ+RmQu4fqCbMBH8KzEgZkwzhV9det5a7LdiLHB\n",
              "X1M54/9zlH97yP4n7nOAZMfA2g4IIX0w2kqogRPf9OFGwSHChg3HYk2IYHzpb3ucEpANEomZaD+Q\n",
              "JEnzAok5OCtk5oXdBFRzsp7a0BGvJ92qqvRU48NZn3QSakpR/7KeIKb4zhfsHt98wODPx6YvpH5o\n",
              "L1R6qfBOoZg/XwuC2DYdNznF3gGe5cIRPzsXhMaTsVH5FAV+OX/YJ8ea22tULql9HdlsoMDhXUGs\n",
              "sDoAG205UnGBBAeGVAspfQAAAG5Bn4tFFSwQ/wARVP3dGn5BOsCbSDR3mNKk4f8z5WdSR6IDkA9z\n",
              "vbHUkoXal0O2EYroQMpvIDPNN7/lTUA1ujFzEaKNucCv3SoSv8bXf8Bnz1yhxHbiu1YOr6qdr4+p\n",
              "XWi91B26k0ePjAOQBKeewAAAAEoBn6p0Q/8AJrLZzL+UcYLHvFnOaNxuIV2/yzGIF53GE9lNMIld\n",
              "T+9TvlJY6ozPsENQ68Xbgpk/ZWi2GZxdtOhA7ADI7CdDUYdMuAAAAEQBn6xqQ/8AJrL0FQ9pj8Zj\n",
              "H92fQyA5YHCEwtJlNq6jOu/DlOH0Vx12iCDRunNd58dC8/U3Ewyka1rFpzLf7KhP5JMsOQAAAyNB\n",
              "m7FJqEFsmUwIKf/+1oywA48cvHZYAOZtxZzeSqcHs+kgHUHSRWEJg08csRdsOz59+dPjt/A66lhK\n",
              "pf0GDBW/hTtczCnxU/0J7lI4zPR8SaT9eyztxktGbWxlCNE5XY66fXR6t4ZCfWq483uF187mi90y\n",
              "2p5fLE0KUM3ptcRQPDuckaQ2WClOtPqfxnEcNvKqTK1lGNLC2GTd/J+mTKPfpTHq0LVZTzsh8Jgy\n",
              "LdRBDIq9pRcpsBM+DV8wixhFDSXLdntqlLbENdVcW2Fn+gmPbvoaVM5bibT+h+8wWO+8eRVSAYva\n",
              "QH/bNij6FmXdUJqeWTrwyh0FBpVZSsN/+kP0VYcZMMqbM5Qc4ZhiG7WZYfHBw0rdN5EqJCQyYiOg\n",
              "Q3hgYMWdkCuqiKt1YLOe9RAbib+HniE3SPPxGVjI5mCKCIf3fxr9rOR3cKe+qKGWOhGG1zCAhgKA\n",
              "AmVLHA4FrEh6q+aeUlNDSSUG2X6GpMOI2Hqdmol1u3IFUoZP9OuP+kjRCacKzYjz9N9U8oiEhKrG\n",
              "g9qZ1gtjK1txColsVBIQMzct78VjPlE/MTQ6KO4vWtNe/aKy/YtkwDE2dSzJG97EvhqMr1I/GAuG\n",
              "qrJlI2dIZyDLjnY3J+ML8cct1A+DnTKbmWt3iNinmrt6+VnjBqevmH6N419uDJ+ePLA/0qAs7ZHG\n",
              "Eig3OeZcg2kQiNFVV8tUAka08STFBqyxMvifcwrWJxAL1TWoWN93SR77HOa5ZQNrJi0MHDe4vA9J\n",
              "qd7L+GbZL6auPVnkilLJxZyO18oDC0jWCh7TGacd3SG0CkGKiO9AvyG6HoiFW6RkouBUpZFng1JA\n",
              "dnuV3IhyGOc6S9Z3dcs9MeiEXjFTheAthVv2TzSFSS1bNAwufYnVT9gmgNo9QY2LcHqgdQAWza9k\n",
              "08DX/2hFgFwSKT8faRZLyPPFDMf22unSBCvhZFVUZUa/bQ0IggZM6Mq9t3qjL+ne/scQDX6m88Fo\n",
              "ecQWgW4X2gzegxU7qTyjKlTKPDd/3PEo7WHHLdSLNI9a+Yg0HpJYh2fBN2vrdgoWbI5+l6Szenhj\n",
              "+9cOpQAAAGZBn89FFSwQ/wARTmNpi4j7807VWW9BNg1yQ2Wl9R8J5Y+zmcnnZw32ECDzYMDhspm8\n",
              "UuOfyKc7if9oACfjytwHtLC6bQfW9ZtwMCx/o4jxCh3/7d0f2d4hxrMKTDmpwaFcp2xTBH0AAABe\n",
              "AZ/udEP/ACaTDT5VbewhPHCwYDRDco7qKl4xVvXzAFiBQrte5NeQVTuUnVCgA9M9m/Cdn2HeHZ/6\n",
              "AAFqYGgshFKv8fxZWG/CZwQ4hWUJvsYBgUzQtftg5WILMvZ+YAAAAEcBn/BqQ/8AJq8eF43Myni7\n",
              "rqVJUkcLKuZTbpBese6AZdKsJAfkFAGxdRkNHnXUA3ZldXwQzJTp+k5VqpA36DNzFRLl04x3QAAA\n",
              "AoNBm/VJqEFsmUwIKf/+1oywA5NqqBPzAAFPsmJFX6shnoq1xWNffOFd1mCfM73kIonlAiUQb2Gl\n",
              "n5+xLg27w9WzleLyD3vV9i16PvvpdoK678jjx+bNLq994DDOhAlz2aDCEJbnK6Zs+Ugf3Vx4+Ib8\n",
              "k12Wab8tVFYo81Rx72kVRS2k4jPSzkd3V8jh2OjqTCvdEvVT2RQXpRXEViYGHhvnErDNvs7H45p5\n",
              "FvVAetqulLUw0Gn8Dz9JjWIFN1z/MDYB7G2wZulYZ6WftEp5vC7R2WcWNuX5H66C02wEnKl89fTk\n",
              "aWb7zr5dW+sD/kAyPzmFwLiMzruOSS0+Rnlu70TXWNzoGPK7GuIXiZf5yT7dqM8BmiDmSojkQTNL\n",
              "jgdTRjD36NdtnxRrVihf3RRpDO2kKx57CggTG0zoZqvPBW3zO3rLq65pMbv0sTHC+ssVohWxeS/L\n",
              "QlFAVkOxyWwy7zLry1oI+Sb80skPHjI11ESv8hSyjIT1cQyC3ylZMvhUysVPVw8ANw0eYjdtuAKZ\n",
              "ZcCpyruSYENCr39hu1xqIqniUVU1OObnOXrBuN0WCxtBAqNWs8P3LB3t5Ft2aBIZjzIQ76qWaLY2\n",
              "gvnObVBbudXkFVeryEkJAwKuWMHDr02jl80B0x5jVPGd9inNu23sVnj+Puhul2hdYgfkXmAnKiKi\n",
              "F1QjTvdH3D+x2yKZHb0BHG0+2O1Yp1aEG7OmDyUfVgTviz6rJKa0iKGQ7X/79GKNIq/9h/gQfJme\n",
              "EJmwEG7xk8uWyqhYaVrBIh08EIGTeLRlWKUlmI2rxLIf+rFzaK7V33qH/RC1KHtMcSJ3Yf63dVba\n",
              "/VXH5MCdKAlRij2fSgsOBicJAAAAbEGeE0UVLBD/ABFVAHd+RXx2MJrU6u/up7O+Gc7xR6dWCjVG\n",
              "NaMR82kblBrXj3g+ph0Ax0X/ycfqx44DQS/iAGyTaGetn50NOkDJkl/wyz5XO1nx9LrsQryYgkhA\n",
              "KZ7tpZrZ7jjAik+mz96AogAAAFkBnjJ0Q/8AJq8c583oq8MNpr22cbC7X5WvypuasSRp7E2Gh/qB\n",
              "GZMmqjICbpLOAGafUMPAD7rwXobbCdKl+vo8m/0lAmLiuoDt/QBtJtpAfleL+03DSOg2gAAAAE0B\n",
              "njRqQ/8AJq8eF6jN8Fcu4N2I79ma5P90KfVLZZC0vP24NMUgEYZbkuGw7hIMr1mLYR+2Lyy0wZ/i\n",
              "VB01DKiw0GYXOWHypS563OhpbQAAAuxBmjlJqEFsmUwIKf/+1oywA5NqaHge6ADaoNiJ0KrER6Wj\n",
              "D5kdHDrNPilHwXVepfr/OQd8+QbTVAOeD+/PEshu8CBE8NAZJQOGVohyl0U17d+XhJInYCaTPyQb\n",
              "PUZqF1ou7oR716Sg+UM4YLonWEdsOFpxPU0DCcd7QzY9XVCVnue9vU8Lk6cBs7pyACsE4gXQ3Xdt\n",
              "LH0dZjsIy8fNeIDxIF6FlYP/rhQRFBXjeSEUjw99vgdA/hdvymBLa4uX4DDKoWpGDB+zOQZArSls\n",
              "j64n9EcalPRdpxzgQm1INvtGjWjC1kaRlz0deCpHlT2f1OvOB36OV4lWa3CsdYo9slaUypSvJqbF\n",
              "dm9Ql+9KBlkTZil5vuvsg+9RmoI0M7HNI4okwWzbvcSmLBP/4Ipt8nW2M0i1md7Odu0ULw65gGSA\n",
              "PxGHtBzaXn54DJh8yOixWLI8b3dFEKAAMNip9ggqA1n8g2t+ROWCsArjVN6GEtSK1oxvWeriOPz1\n",
              "q5jDy+8oT9ShWyL8oQd/N8eaNWAB/EdT7aPcsLjZQqkhCj04m3c6MWKg7GdlPVLnMycdNZfEBv0I\n",
              "4uSYeJ68pap68OSHS50BEm4ue6ymAm0g2sSy1L6b55fw2dudXDZ3l+Gp95Kl8ChxEcJdLqB+F1Qo\n",
              "0iGrDsJcxOg2fjcb/bTJqEH/P3hw2ApUHsJPORGSph0uXDxYpbniWl+ggKUESRXCPxjSH0wLt0KJ\n",
              "ubDJqMHBqqC9nRfRFlSZAeN2Os6jGS4Fetgj73Zocjg825G9Huo4f/+NFzAgHOmhdNryV1QfB0oX\n",
              "3Tz74hCA1igUnPwOve0fxX7MKZrznf03/Ej3tehRY0/1cdjOUMWM+Os11DvJ7bxV7xbCOiSAZUXD\n",
              "8JTJR0UDOf0vRr52oiumkieVEmrW50sqBW23to8tbd6Eh3Nmboys86jRW13w3/aolKaVPRU1RE4R\n",
              "IZLdit1SUBVboaWK9Z30pZVW5PFssO9Tw5GT3OYIAAAAZUGeV0UVLBD/ABFVBA0Cch1bV+baiCD3\n",
              "VYoh++2Qr3GjXbk/NtK/CMnw8sVsLWBlqfypTX/7iAEXG5rHtBL3H79Ltz1YS+g8dLY4VaRzqm99\n",
              "CjU6sITDBlwJUYtKuA5f+bmFsfqRAAAAPAGednRD/wAmqU6ngWalEVNHRaavrq5ykDQQUXtOXUu5\n",
              "GEV0xp64E44d02tiyEHwveHFynebaW664p6GPQAAADoBnnhqQ/8AGl8d+cZznv7j0xtREiGdQwTE\n",
              "5t0gt4lXAm4sfsK3V5Ibg6hi6M+poPxn7gEvz/AebZ2gAAADAkGafUmoQWyZTAgp//7WjLAIvdb/\n",
              "8Qn/iDu+Nx+v4egOa412+GdLZs9v/ACP0YHuRkpdmq/di2LqtsJyvGJmuxBw3cFg50c20ouZNQ/g\n",
              "Unmur4AiMk9r5AhufH8D61CvzZpRhR03jKxEgC15eyHkSGgkCSX3HsfeZQv7MfoBZ7fUJdHCQRtC\n",
              "SJP/nOe7D2ImmdyJLQYHrTIBe7jJRWQyuKsQ8eebtTNq0dU6TJSL7O6RWJis+cdVUvGK+4QmtNCG\n",
              "A4X8nHhZQWLAU4VAyRrKJ3e+VNyger9qfgjxghE3G+axdsESMnkL8b5TLCQh2jgzvjj38OHFIQTK\n",
              "RJ/pI0D943neErSqvUaaPqzw31OQefllgeUUke53t6weSUAQNZQwlMPYKnarx/da9g1AsLOSSsUD\n",
              "gfuP/X83u+Z+7g+W7cWiCBFViMO55/pGI32PUXOnX2i14fFJV8xh0OPndbb/vjSPLfyPjzy0GLPL\n",
              "glF1yHSlORISFdHzyGMADTt4S1nqfsAERmGfQXlUgigf3Cf0ldAQ6MG85fjmIXiBOBIthi6nfI5C\n",
              "CVtSVp7mSHPeYnB1Gp7wMS6ZZMrLur+OtDbcytc+ONfJf70K4X6PCi8cGkieDmoCzgNkgYfU7+DG\n",
              "zMCDRxaMaKil7jAEXKYPB7FSUuczhVLUA0CEuNDpyzksdJLsiz9PmDCCR2F1fqc1A7G8q/C3FtxZ\n",
              "SeCBdze4n3YaYGZGJNBtube5xiVdybulr6U0EePWK/Lmni9WAFxJ7TSROuJuHzBAceHfXM1A86q9\n",
              "0Mxd+a9Z0P4aF+YieV1Z+1PDz3xnr6UqUns5Sx8nLNcAbcOIhn3wPUtlZ/S4ziNLpBIeZYIiLIgy\n",
              "vYpkYHW7KjzDLYodiwPIo/arJAYuFzZrNjpYX6YARFIML4PLGnWbXzY8KYPpx+wCyGipFp6gaAWn\n",
              "N8QjlDkB33RPSpSMG3nqGqYzY6K6/hJwL4yLiELCfD1WkqXpPbhZn4Sj/++jdkoskGZ7qyove+R/\n",
              "P+iqKyFsfQMRAAAAckGem0UVLBD/ABFVAg++RYzfg+W1Ssn6RUs0Ad7I3aDJhZvaONziXs8fxRuu\n",
              "9SUUoy9+/i8Fz9QoAR1B06XJ8SXK8lONpxvfN4axgI2bzn8EvdN7+S0G+8akuNdbBAEx0GljrA4p\n",
              "XjdUE+bYyQQXzPfN+AAAAFsBnrp0Q/8AJquV4esLZr0x6QbNT2m8FbfMv3Izyue6X5xkoaDQZUKO\n",
              "6K3fqupIARjDFeceuK42LU/pIv8wOddZ3P2I3tz73X3UOAd002yrtgEtBM57U382U+IRAAAASwGe\n",
              "vGpD/wAmsRbPEzNwRsO33oLUfLMXTRgHUt0QHw9Q8MJkxiCon7iVaEfNwuIz5a579sVZTmiySmql\n",
              "FNZ1M1sQN5/vL48KOfixfwAAAjhBmqFJqEFsmUwIKf/+1oywCLydNusUv6UwuoAjhq4O/UZyU8lf\n",
              "woLOsIi+ekp4mQbLDx4RNaPyq6zLWLfhNflM/FOejfxWZwZxpA4LkX5YWB83VAIcrusNaQcf2As4\n",
              "fz155lmVOdb/rUdO2HEpDiX/Ud5m3EtbAScZiQbO7/FI3QHR2nW5cnyFUPP5LVuPehurNbA7HgF8\n",
              "xhdpaBKh/sQbiOkFD1kOqHGMp28MhgQTkiqRDVbA7iteDJxq/SLhF/+17qXCeBb8Mg463Scu4y5o\n",
              "Dp5BsoKhi4vmAijvtjnBXJTXj+nIx1oTdpsGxz12T3tM3OVy7fnJvLw2jNBMWVscw5UKVuxk3pNl\n",
              "9UCK5h49n4uxhHwkumNDUoMcs/YWK0OE05CmtJK4gp0/BWcAu2SHpcsYD4uYl/ZRsRD/KqwmDVHN\n",
              "Np+adEvzaMjDdoqr/fhjR9Gbij5A/UZmIcInKJujRkkxKhUAOixZKmRuJWcHIUBq5U4F4oj1jrbF\n",
              "BBTI7dkMfVe54BwiGnJa8Dg6AuhXAICJNS13Yh9fM+9l2KT7SdU9dJiuw3qinWoCi/NV7hGkf1xh\n",
              "WgP3q6OuKgam+I+3nxkG2v4fb6QF7/qpgZqu39mc18Cq3MW/FKaTgR1xyGxj3jl6RqE03fee05M3\n",
              "ACh/EdbTLxKYmMuCmws0PsMePrDw+KTSOtVCG/z+GxigH/deCDHwftmPy8Ez5Ll6CpsHtNjv6cL6\n",
              "tpqNO2QF3q1u+5ly51093Uk4AAAAVkGe30UVLBD/ACJ40gXtn26LuJ4JrqsOX/4udHx4HQY3+1VJ\n",
              "XgJuH/0QAIuN/9bHdFn4DlRP1Z45NnIO3I1N6qUU3e2eA1xX1pdbq4cc+5BTDkSNlXSwAAAAXQGe\n",
              "/nRD/wBM0L9POXbky2cWmNH4qpY8EEKtRaIufEFSR9YAl0aKragOMG8Cr3M+9egqJk+tiM9RE6R3\n",
              "0xeeBdG/3oB/UCrf9MSeR3ubdR4mNhNRNgBSpt54aDBboQAAAD8BnuBqQ/8AGv4v0N3MsW3LZApK\n",
              "Q/wN1Auo6Y7HnHRO2N7DehaPrFoQ2bw0cIGiV2QyYWUzaQuwvTrTNI6ID4AAAAJAQZrlSahBbJlM\n",
              "CCn//taMsAi8nXwtACPLpv8JNGu4jezDUp5eatZQaimdkt6sdUB61TIIst7q3ijFxtmQiQFVwjBn\n",
              "uiT5JfwaBs5xrH43Y/LRaVXaTdr7y3x52EPBhkGj4hO+kn+QE/M1H3X5LoWntKKIiHYLpXJ5JtSf\n",
              "5nKPD67JoZ4js0zRF9bUEINcsaLxgLSD5jAQZfkjYPX8xbCVuVYvw46G6E76B/q3WKdAMrrjw/ya\n",
              "N8SCT0KXLh6uJ4nmfE6Wmq7uDsvFx7oge/O8/ZR7PPPiTrZ0PkdFdLH+Z6fhooUG0rn9PKLzHLBU\n",
              "Q7Nb192TqD98hr04ZPtN3hxmHJtCWDFExrz2cDwjEtnfUIQq1R42XREFhIgnGl7UKJkCA4vU2F9W\n",
              "FbDetZ38/f6aixWgJYk4B2xfZLNVHRPHVr4EUnvaXhYhnx0zmTKYi8PGELV9C1rp6gwvUjJu8RNt\n",
              "CFjehBjKpKHIFgQb1LDv+PLV8VGwIUNQFeLI31K9sZnt1LpRQ3+eDtDkkhYokltrIkF9D2e9wLJX\n",
              "KAFiNgOiLfv1PCFKNHsj4A6Z3dJvkglnCwmbZ+RFI+KKNKXluzaEYOR42QbqP0pS716NfJ6EKxbj\n",
              "HooNWN6GP4o6XDfM+MyK5MT6uE7WirftlUziBmICEVYP6ZJTt7pIDJjGk7Jh/0o0RapdiIvPfjg2\n",
              "CYSorevzz76koBXO6nEAwwyriQe2uTIqtbM0895n1ftY0GM03wBLkeVWlHfNGUxS47Gb6TKBAAAA\n",
              "YkGfA0UVLBD/ACJ40gXcDinMxAWoReHVnd16ugBZCG1XdbYcznQ4Var+qHCcD6Fhxjs21rLshD8p\n",
              "7JlfX7vRw24A/4KKWTnqLb8l23UrH2PauZu90ntEMu2WeYleJKU9h0T8AAAAPwGfInRD/wAbAJg4\n",
              "fonRPlTCWlFa+yecJuxIYOPmvfAWW6osvsG+YnxHGvIkcn0fiPqo6rjZzHeAtA7Z8+3VwQAAAEAB\n",
              "nyRqQ/8AGl8ek/UK0YFcJAcMB7bRTnjBGD3eRP3V4YGm/MD4dudCG8ONoTR77ciMEUmC23AcyKEf\n",
              "9wAEqV3BAAACPEGbKUmoQWyZTAgn//61KoAgsJQUfH/v6/Bb+GF04/6v03VbOPHBPSlx9v/x4jjm\n",
              "ZCzOe/jqtI/XYlRSzJx4g1DtJ7FFUZjSY4fUlg3IPFjIcMiIEkLqbC9r90/cGCrfcyzajXlNof1w\n",
              "KvlXNZxhjTeoZfPX2njt+ZnEqqvn45i9Mlnl4p8s65nu2/DUB30zDPXjZgtu5L3ZLvvI+ri+lOP5\n",
              "d2f0obBbjlxbZV643DZ9lzB5PkWfFhvkfGE/YHmHLHmKcgfD8GkR9JkK7uux3g6g3BD3gE6ClVs6\n",
              "gJV+ucWUJc7Mqk5PbcZ28BsilvMprm8LCs2ffXpuBBGVVKaeJc8YxDoBK5AEywVyqV/2FcF/0pgM\n",
              "e4jTQTG5Oa4b0NQvokkYUcdnmrs3X2TDkqvG2lBmy41MhIuI4MoHxsjg1E+jFgvCSBf2v1i/JEXY\n",
              "vd3cVlPiFLDzEWs49fn37RfXHiLHNzfZPjG5HEi3MHcuTX1qFmporHozP/LkSruZ4c9u53qY9qtu\n",
              "8bODtdwGV8MtGTpSLukzeT4xSbin/goHbVpTwkqUIfUfHg4GOjaGL5l4hLHjoDDYVdrHqtT3JTQ+\n",
              "Hlakuml0cGanbTGl2SBvFA4M9V5ggSXR5cmth7S2bKXSulCOjXGtx4TAbChe8sZfJ5Lq/bSNbaJb\n",
              "u2oKWtGRhzdvnLKbEQ285ijw3NIcrbShyvLWaxlQZqmTx3zot1ls2iV6NuV8dvw1rrOPROlEuzxR\n",
              "z8uN1bt64tFr+qbhAAAAaUGfR0UVLBD/ACKBTrWCyDrcu5KIxz52izhKFwzeZcj1mP6/nuZ7SL+c\n",
              "2zqk4iQM1d5I4LTDns+8i3H3OKmleH6+q9QKEIphBlKQ0YW2GJcYXclH8M71v3+mgoH4cATsCegs\n",
              "AwO/5JuQYQAAAEABn2Z0Q/8ATNDU+/wd2rNvjf/2nOsn0Ruj5K70/nmmaf0xy441EvyWwzGEInGl\n",
              "Ixel86W34Mh3EHNsJt6QoFDAAAAAPAGfaGpD/wA1r1Pf9Bv20mVue4NvzrQad/9r2Ba/iphcqIlG\n",
              "CdHloqX522YkJNoBM7YLC14NHLNeBIJWVAAAAihBm21JqEFsmUwIJ//+tSqAIRJ2SRwBbaFaF8wg\n",
              "EV7qq1ZZ0E3RE6QMG9eZvLUOS8f1JOkqFE6lLfAXya+PrhmWPA+5G4Nj3JfKALoKYKEIYV5e3zyB\n",
              "ZbwbdFZuhv5rfGHMUZW4wD8tXpxIygM3qMyQTX8D195rgo8LyNqM/cX+cuSE3aRUPgk4JjmnYqAC\n",
              "5Vc4ahinVBSu4WmMPmzGDEw1uhgmzv5v/Nd3Q+2djslRgSwdUqReEaIyTD7Yqija0fGx6U+jMcBS\n",
              "n3IvE6fWl5CpcSp/ogEG4mHxy4ouN9HawhLw5cu9/8+LAfGaGBAAaeF6y54IClTBEvM6drPk/CLZ\n",
              "L4pGhlWGopEcOy73AiySp+kOzXt3dLOE5bpBCCzRm5i5BBUwPJiC2rKDFVULSffhpntOf4UPTITH\n",
              "bLfcHxlrhnUOrxWzSZnRiVPUP6k75p3FIM9wpc5ib5H5PP+9+JTok5o2eT79/vpnmwh8d76mALO1\n",
              "GPjUjQ3MSTV0YaYXSTloPwR0XVRaQ+cweHzAII4Qn1y65CWPfgCI5eYFA9cpkqTmdflsTMrq0nOC\n",
              "9FUOqGRr8qoP+gfiR8CmzGSJXQ260XKr7YicQ93kPLIPfkyXqnnAS89JwzJTWCUVt2pCtsbtkPE6\n",
              "zOka9MiB3NwOEqRRy5BcI3xouPrL7TlOR2psWBPklsNUSV+TjVY7ix1STJCoIafrAmAWdv35bgn8\n",
              "Ru5ExqNPhcqp84EAAABWQZ+LRRUsEP8AInzH2cpfZ9Zfs/89ZNahHcU0WkwancWiyFApbvS0d7mY\n",
              "k2YxzSfhS5mgQIpsNCTp/b8JJyfcA7XGVb7F8kL/UhOztXWP0B5kW0gVTmAAAAA+AZ+qdEP/ABpb\n",
              "pZ2UJJHmR9NxtxEDjbuAGhPOFLuQZkGqEQt/1cJgBj+YUStNVWWcBEbdQcFuQ35fqdMwqxYAAAA0\n",
              "AZ+sakP/ABpfHofrdD1RQ/NXX3Enp2NVQ83QoVs7h/mEOaCsg3CqVY4v9Qvu8wyUN76AYQAAAe1B\n",
              "m7BJqEFsmUwIKf/+1oywCLydhLrADjOXqM5o+7LbPqPa6oHP2m3T7PfkoIvtrfXrTehkuCDuIBXC\n",
              "iBdQBc/Zvj0DOPVVTDYXMl07EgGN36iU+3yCyioXDtBg75GUs7YnZpoJ8aihfVwwTsH5ZVv4iJBu\n",
              "C4gd3+Ipt43/YHfjZRP1Q70koUBRItHoIiypANv6SwnpAwYqaZao2DI+S+u0vdzWC2KgXYrnXsCM\n",
              "yGP1G5FvglPGJHPt2oA75MyPbyB3MiHmZmze/q+b2ZUUsRdMtCNZpYyCaDO0gXUHQBfjxOZ0LEjs\n",
              "YN0/b6wowZJlzyFTtaX40Q9J3cZ56CNm/Opgy+HmMFu0qLFobbExakCbdkVXsOuB2q43rzEQAxfa\n",
              "mDq3QCJFPrjnaYaCX/4UsJOGiTG57lFpATJxci25u/O/AH7h/o4gCzeqE48rOuT60qFAOP2o0Fsy\n",
              "PKlIfAJl/Zl8cFhTAmhObEILtRXYoOzVTKnWqjVaB8ZkuVukMTqTU6Vn4lsePJp6dGYWUz7k5Hdp\n",
              "wCVhAzrTLi6QLLs+WtYaeWRER5nzyJiTpEE9AKznAaFtKBikNV3BMr50ZHuxIAY+pcQzT3a3xBGH\n",
              "uRa24kyQTC6yLpg+qg9eDMPEBxEjTvwA5QVZAduDPrF5JLtBAAAAQkGfzkUVLBD/ACKp4AALpp5d\n",
              "oqZ+iNHNvlQDfA3eajnilXMEwerH0Z8GvI6HRVl48d6eTpV0yVQTXa4N65iW6ZtWPQAAAGgBn+9q\n",
              "Q/8ATMGO3/Bi1OXMaL/Cr0iR24QSsMp8F8Arp9HDbDB4pglnzz7LadojzZXSrNokJ7nfLAfD4TJI\n",
              "RZkNPcs9i2RNSZB7f0iUoN8PauNg/+LuW8Wv8rg8DZrLJWBcXgkL0HrBWwAAAaFBm/RJqEFsmUwI\n",
              "J//+tSqAIRJ1E5IARK47wUAdRdL0U9uMfBx3gkGqBkfvtxeEsSzZ2qWQRI2GH2PI2567jouuLigy\n",
              "ez2WQyOLmw4k/bhYFuQoGVd3JMZUlCmjpzDf/K1qC7VG1E7JvF4d9Xfgce07N+iAx/fmNKC1YRwX\n",
              "93as/g6GRdWxQ/4Mmt+rcHRRanMISbR7CkYnIc3BK/7aHfEzXx9kriK6jwpK+m8iUQScMcx3+ZfK\n",
              "fU7ng4EeAV9kxNd4qdvFOFd3o3fbTbsE/IdMwroe2yuS43RwwJrEH+dnZeJ3COlkdkgHyW7ZxAmL\n",
              "QdZP0YEZzaoBEgGAimBR0JlZHmQr6Bxdxg6lcGshfoAmkOSM2vhrgfvcX+37VudhJIm4ksrZpqBf\n",
              "6goQOtgttiJVQ22QWJ+uIMc7PYLGsFxrzgKBpXqYYngc6VZkdeYGmnq7KySb6e9sv0CvnPFtc5yo\n",
              "Ta3TJNWXkSAdd0yEqW5YXfqqyC+RwXk8whs9WpuOegEovtvgqmftz7Af6tmiUoHRxMqM8StQSB5S\n",
              "H0UBuopVv1AAAAB5QZ4SRRUsEP8AIhlJfgSAASsiCS+8fydmjwgufxJC1OfNtFX6EGj3FeEmfCni\n",
              "Rf88Vjg1uMaHhzR3iNPa7WpkLKmap9n1SLTzjXTGIWS2QIK3CPQlNGk9uy3kRywdgT76pdwj7QUN\n",
              "tSjLSumVY1PEcfVrNVkOsmhKwQAAACwBnjF0Q/8ADS3S8Q15cxue61G2KVBc6rg5xIlZembHK70l\n",
              "VmKc76dP1y+aqQAAAFYBnjNqQ/8ATODbHoDRE5UXMFFX2AS8wyMD8DAmyzUDUzMNBXRyvAJDu0KM\n",
              "MnNQpfR9lhWS+hGxc3lCdTytZI3x6rLyXao37xDRYTzzDPbQXuTK8ryDpgAAAY5BmjhJqEFsmUwI\n",
              "J//+tSqAIRJ4K6EAC1B43zhO2NeaUOWxdv7vLlI74hppCdqBzydUJRkw9I2+5krZM2WHiwCM5b68\n",
              "27pS/x7HbMWlc3JE/JgaBjK5E1jr3JRQHjU6FRxa1tf7U2OXtZy56XtzVdb91yCi2kmbvx8wNDvP\n",
              "ppq2ARPpXLHT7msL96z4nGSF0ADKnbLjW1NldHlAi5dIpzdmixRmG5O96vIkrLx+THyTope/Yulr\n",
              "R211ggHJQ8IJUToLV4Cuosz+XZoGFnYiyGC8V0Qj/oMcFu0CGMEb8IYWrV8h5Tnf6dBS/0SE2U8f\n",
              "bEQdvMLOzPjyTFdMH0WuFOxxIMEi85lWEJ6NY26odo8doCif4Eycq3LxGd0vTN0ybxhJsYUJKYgz\n",
              "KthfWmRpmt83DQ441SS6P44LaX5TtNTGzJhD31viSKPBfmTdFYTifOkw9UrQ6TF6KH9612ts19os\n",
              "OhJvKeY1aVjLbtghXrtxtzFZ2pqrGU6SSSK7Iyi08UTEI1YSLVrF6kIszSfKYQAAAE5BnlZFFSwQ\n",
              "/wAYW/va/w7CY8yTrbRW2OXmpZJeeW2PHmlW9lCWt941zZBt9kkByc4DfgxMAVwSTsZLztbDOmfL\n",
              "CMjaD6amHoBQiLiwbUAAAAAyAZ51dEP/AEzXKqIgYcuSRXIq2y80ie4NzUxjWuMNbrs6cRBUVBhv\n",
              "Hnr2IirXNo+6Ee0AAAA+AZ53akP/AEzaQ+k9ijkfu+1+wulv5aApJwAz7okgxQrYXXum41zgv3ab\n",
              "NA2rturiMhMwxyJk/4bI2+UZzpkAAAE6QZp8SahBbJlMCCf//rUqgCESehckAFuoD3Flc/zc0QdJ\n",
              "E6XAqL9kAdcAPj5io1eOw1oU1iXhCgBHL0o4AIdIrBFIEI4EtpqymgaTmXP41xf/JCcqk7Hyoji0\n",
              "WqOkd3UTs8RZ45IUv0ejPHuEwWO5cKiO2rx/E28Ehsukl7hJShVcUoGPnwxaAddUJEA9VogyQPg2\n",
              "igCNvSeHcnVznNA60xwpGyvRaC/e2KQLwgZFRc2uFPXuQr3viWSjS3/tT2oGfb2ywYYccRDA9MN3\n",
              "lRSVs4wCvv6pE5C6jnUc+teF4N2Oq4KWJqsG9St44e3BrcMqi+EJ2TNgpTeQgSHFQJ1/fvdobURv\n",
              "PihginQrhgzPhVDAkLmeLXANc20zwcZfEAzvKCsf1PQD3PNpv7tm2GTVW+cIyYYoSjx1UPQAAABM\n",
              "QZ6aRRUsEP8AEVQ7U966iLLfyH+oUj7q1kLh/Wx2qUOpIgzuPXLho/DqqDmaBWwraxh/78lP24AO\n",
              "McVvsNjRAtS/nMhYFItL6eDDgQAAADUBnrl0Q/8AGlulFr9hOWjBYwnlMP/QSZhl6cSYqCUaPcvr\n",
              "CILeMjTiunNuKYe9ymRQCOYTQAAAADYBnrtqQ/8AGl8eIZAg7juKdk/e3ZxJs1PoW7puUySDJoF/\n",
              "OafKqpIpF4b4Kt6/HFN+uyAwpA0AAAD/QZqgSahBbJlMCCX//rUqgCEKeDtXEAK+subzuYxQFfOU\n",
              "A7JrPn4K7D+QzknpLaHX1tmaBgE4uI0vS/K6f0rbBYs2daZcfeGWtKT/kogzJu4r8z9dEV/IsTP+\n",
              "2Zeil40PV3Vy6B8Xgnsy2lQjiC7v0Qm21/Pu0JWxf1rwobxqQNL53hKpP8F8422lu84BXvZ4pAVP\n",
              "fRCozwLPZaDciOEh29hi9+M5rS3pkN8ysGmfMZZUp1ttQ9KRSyzo0oHls20xnxzrHB5SocPDfKWl\n",
              "C7wNfnW1212XbH8mNJBm7wQK1ebQuDowL29kPxOvtavCB0ftLewGBWWW93iTK/I60E3BAAAATEGe\n",
              "3kUVLBD/ABhQpCu2fbnZJ1YztLWvaVcCBUhpgqyiwOsUw/HBBDSTcXbbmN4OYvioooapdB1YuFKd\n",
              "vxgQ+iokr/Wn5R4CL7LkV/AAAABAAZ79dEP/AEzXK8TIgaqkIBK1I9dSsYz88uvEToB3eFhzKG28\n",
              "giw7POAqSo+z5wiD6zMmTy4DSjd7OMnK5SrBMAAAADUBnv9qQ/8AGl8eGoesmr9ACRRNx6HA3Ptj\n",
              "TK8o8FoZ7AzlKozDyCDnF5kP7Cdbg9ALpqO3YQAAAGtBmuNJqEFsmUwIf//+qZYA+u5wZaAD+b8i\n",
              "BVULoCeqsvNbUKoArH0oJ2oShV8BJTILrHI3nt5slPDAMK/as5RRy0+HthrCj28t28Zg2RYQ8ZpR\n",
              "Y4rov+4/QDb9n3XovAfIOkv/66pNkjPDwAAAAE1BnwFFFSwQ/wAYW/vbPqaUEj0lgKIrk2IDkZyn\n",
              "3u+lNMibPBYVTZinn4YF2LfIEs8+11cF6HA5w7s/NjZj5kA7AG1kkw7cH0S+bzxOQQAAAFkBnyJq\n",
              "Q/8ATNpD6V/qAD6YmGjeM5DOPLMnfxh9mRpveURLhXxJrB2MZWb9sj7N9bYG+PYYTDfTvVYdQj3j\n",
              "DUaZGtGmCmT/obkwr49byguuSRZ9t4PngdCmgAAAB3Ztb292AAAAbG12aGQAAAAAAAAAAAAAAAAA\n",
              "AAPoAABOIAABAAABAAAAAAAAAAAAAAAAAQAAAAAAAAAAAAAAAAAAAAEAAAAAAAAAAAAAAAAAAEAA\n",
              "AAAAAAAAAAAAAAAAAAAAAAAAAAAAAAAAAAAAAAACAAAGoHRyYWsAAABcdGtoZAAAAAMAAAAAAAAA\n",
              "AAAAAAEAAAAAAABOIAAAAAAAAAAAAAAAAAAAAAAAAQAAAAAAAAAAAAAAAAAAAAEAAAAAAAAAAAAA\n",
              "AAAAAEAAAAABsAAAASAAAAAAACRlZHRzAAAAHGVsc3QAAAAAAAAAAQAATiAAABAAAAEAAAAABhht\n",
              "ZGlhAAAAIG1kaGQAAAAAAAAAAAAAAAAAACgAAAMgAFXEAAAAAAAtaGRscgAAAAAAAAAAdmlkZQAA\n",
              "AAAAAAAAAAAAAFZpZGVvSGFuZGxlcgAAAAXDbWluZgAAABR2bWhkAAAAAQAAAAAAAAAAAAAAJGRp\n",
              "bmYAAAAcZHJlZgAAAAAAAAABAAAADHVybCAAAAABAAAFg3N0YmwAAACzc3RzZAAAAAAAAAABAAAA\n",
              "o2F2YzEAAAAAAAAAAQAAAAAAAAAAAAAAAAAAAAABsAEgAEgAAABIAAAAAAAAAAEAAAAAAAAAAAAA\n",
              "AAAAAAAAAAAAAAAAAAAAAAAAAAAAAAAY//8AAAAxYXZjQwFkABX/4QAYZ2QAFazZQbCWhAAAAwAE\n",
              "AAADACg8WLZYAQAGaOvjyyLAAAAAHHV1aWRraEDyXyRPxbo5pRvPAyPzAAAAAAAAABhzdHRzAAAA\n",
              "AAAAAAEAAABkAAAIAAAAABRzdHNzAAAAAAAAAAEAAAABAAACyGN0dHMAAAAAAAAAVwAAAAgAABAA\n",
              "AAAAAQAAGAAAAAABAAAIAAAAAAEAABgAAAAAAQAACAAAAAABAAAgAAAAAAIAAAgAAAAAAQAAIAAA\n",
              "AAACAAAIAAAAAAEAABgAAAAAAQAACAAAAAABAAAgAAAAAAIAAAgAAAAAAQAAIAAAAAACAAAIAAAA\n",
              "AAEAACgAAAAAAQAAEAAAAAABAAAAAAAAAAEAAAgAAAAAAQAAKAAAAAABAAAQAAAAAAEAAAAAAAAA\n",
              "AQAACAAAAAABAAAoAAAAAAEAABAAAAAAAQAAAAAAAAABAAAIAAAAAAEAACgAAAAAAQAAEAAAAAAB\n",
              "AAAAAAAAAAEAAAgAAAAAAQAAKAAAAAABAAAQAAAAAAEAAAAAAAAAAQAACAAAAAABAAAoAAAAAAEA\n",
              "ABAAAAAAAQAAAAAAAAABAAAIAAAAAAEAACgAAAAAAQAAEAAAAAABAAAAAAAAAAEAAAgAAAAAAQAA\n",
              "KAAAAAABAAAQAAAAAAEAAAAAAAAAAQAACAAAAAABAAAoAAAAAAEAABAAAAAAAQAAAAAAAAABAAAI\n",
              "AAAAAAEAACgAAAAAAQAAEAAAAAABAAAAAAAAAAEAAAgAAAAAAQAAKAAAAAABAAAQAAAAAAEAAAAA\n",
              "AAAAAQAACAAAAAABAAAoAAAAAAEAABAAAAAAAQAAAAAAAAABAAAIAAAAAAEAACgAAAAAAQAAEAAA\n",
              "AAABAAAAAAAAAAEAAAgAAAAAAQAAIAAAAAACAAAIAAAAAAEAACgAAAAAAQAAEAAAAAABAAAAAAAA\n",
              "AAEAAAgAAAAAAQAAKAAAAAABAAAQAAAAAAEAAAAAAAAAAQAACAAAAAABAAAoAAAAAAEAABAAAAAA\n",
              "AQAAAAAAAAABAAAIAAAAAAEAACgAAAAAAQAAEAAAAAABAAAAAAAAAAEAAAgAAAAAAQAAIAAAAAAC\n",
              "AAAIAAAAABxzdHNjAAAAAAAAAAEAAAABAAAAZAAAAAEAAAGkc3RzegAAAAAAAAAAAAAAZAAAFTQA\n",
              "AATyAAAENwAAAuYAAAKYAAADBQAAAmoAAAJ8AAADjQAAAG0AAAKyAAAAUAAAA/wAAAB+AAAAbgAA\n",
              "A6AAAACXAAAATgAAApIAAABgAAADGgAAAFoAAAA9AAAC9wAAAGEAAABhAAADGAAAAHUAAABhAAAA\n",
              "SAAAA1QAAACYAAAATgAAAEgAAAL4AAAAhgAAAGMAAABEAAAC/QAAAHcAAABCAAAARgAAAuYAAABy\n",
              "AAAATgAAAEgAAAMnAAAAagAAAGIAAABLAAAChwAAAHAAAABdAAAAUQAAAvAAAABpAAAAQAAAAD4A\n",
              "AAMGAAAAdgAAAF8AAABPAAACPAAAAFoAAABhAAAAQwAAAkQAAABmAAAAQwAAAEQAAAJAAAAAbQAA\n",
              "AEQAAABAAAACLAAAAFoAAABCAAAAOAAAAfEAAABGAAAAbAAAAaUAAAB9AAAAMAAAAFoAAAGSAAAA\n",
              "UgAAADYAAABCAAABPgAAAFAAAAA5AAAAOgAAAQMAAABQAAAARAAAADkAAABvAAAAUQAAAF0AAAAU\n",
              "c3RjbwAAAAAAAAABAAAALAAAAGJ1ZHRhAAAAWm1ldGEAAAAAAAAAIWhkbHIAAAAAAAAAAG1kaXJh\n",
              "cHBsAAAAAAAAAAAAAAAALWlsc3QAAAAlqXRvbwAAAB1kYXRhAAAAAQAAAABMYXZmNTcuODMuMTAw\n",
              "\">\n",
              "  Your browser does not support the video tag.\n",
              "</video>"
            ],
            "text/plain": [
              "<IPython.core.display.HTML object>"
            ]
          },
          "metadata": {
            "tags": []
          },
          "execution_count": 225
        }
      ]
    },
    {
      "cell_type": "code",
      "metadata": {
        "id": "pDHrrRFXJAfg",
        "colab_type": "code",
        "colab": {}
      },
      "source": [
        ""
      ],
      "execution_count": 0,
      "outputs": []
    }
  ]
}
